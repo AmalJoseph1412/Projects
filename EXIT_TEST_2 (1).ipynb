{
  "nbformat": 4,
  "nbformat_minor": 0,
  "metadata": {
    "colab": {
      "provenance": []
    },
    "kernelspec": {
      "name": "python3",
      "display_name": "Python 3"
    },
    "language_info": {
      "name": "python"
    }
  },
  "cells": [
    {
      "cell_type": "markdown",
      "source": [
        "# **Handling video files in Python**"
      ],
      "metadata": {
        "id": "5g_t_99FzVu6"
      }
    },
    {
      "cell_type": "code",
      "source": [
        "import cv2     # for capturing videos\n",
        "import math   # for mathematical operations\n",
        "import matplotlib.pyplot as plt    # for plotting the images\n",
        "%matplotlib inline\n",
        "import pandas as pd\n",
        "from keras.preprocessing import image   # for preprocessing the images\n",
        "import numpy as np    # for mathematical operations\n",
        "from keras.utils import np_utils\n",
        "from skimage.transform import resize   # for resizing images"
      ],
      "metadata": {
        "id": "jhy7I9EIzaqN"
      },
      "execution_count": 1,
      "outputs": []
    },
    {
      "cell_type": "markdown",
      "source": [
        "# **Reading the video, extracting frames from it and save them as images**"
      ],
      "metadata": {
        "id": "PDWlg6V97jWp"
      }
    },
    {
      "cell_type": "code",
      "source": [
        "count = 0\n",
        "videoFile = \"/content/Cristiano Ronaldo Best Emotional And Happy Moments _Portugal _Into Your Arms Short Video #shorts#CR7.mp4\"\n",
        "cap = cv2.VideoCapture(videoFile)\n",
        "frameRate = cap.get(5) #frame rate\n",
        "x=1\n",
        "while(cap.isOpened()):\n",
        "    frameId = cap.get(1) #current frame number\n",
        "    ret, frame = cap.read()\n",
        "    if (ret != True):\n",
        "        break\n",
        "    if (frameId % math.floor(frameRate) == 0):\n",
        "        filename =\"frame%d.jpg\" % count;count+=1\n",
        "        cv2.imwrite(filename, frame)\n",
        "cap.release()\n",
        "print (\"Done!\")"
      ],
      "metadata": {
        "colab": {
          "base_uri": "https://localhost:8080/"
        },
        "id": "5s_1hORmzb7e",
        "outputId": "55372070-1ac6-4d6b-b0fe-9e113645fb3e"
      },
      "execution_count": 2,
      "outputs": [
        {
          "output_type": "stream",
          "name": "stdout",
          "text": [
            "Done!\n"
          ]
        }
      ]
    },
    {
      "cell_type": "markdown",
      "source": [
        "## **Label a images for training the model**"
      ],
      "metadata": {
        "id": "dzr9qjP68Sfv"
      }
    },
    {
      "cell_type": "code",
      "source": [
        "data = pd.read_csv('/content/mapping - mapping.csv')     # reading the csv file\n",
        "data.head()      # printing first five rows of the file"
      ],
      "metadata": {
        "colab": {
          "base_uri": "https://localhost:8080/",
          "height": 206
        },
        "id": "A1pOGiMZ9ZF_",
        "outputId": "fac0f48c-0505-430b-df6f-61edb3369123"
      },
      "execution_count": 3,
      "outputs": [
        {
          "output_type": "execute_result",
          "data": {
            "text/plain": [
              "     Image_ID  Class\n",
              "0  frame0.jpg      0\n",
              "1  frame1.jpg      0\n",
              "2  frame2.jpg      0\n",
              "3  frame3.jpg      0\n",
              "4  frame4.jpg      0"
            ],
            "text/html": [
              "\n",
              "  <div id=\"df-47c526ec-3194-428f-8fb6-a4a62604ba54\">\n",
              "    <div class=\"colab-df-container\">\n",
              "      <div>\n",
              "<style scoped>\n",
              "    .dataframe tbody tr th:only-of-type {\n",
              "        vertical-align: middle;\n",
              "    }\n",
              "\n",
              "    .dataframe tbody tr th {\n",
              "        vertical-align: top;\n",
              "    }\n",
              "\n",
              "    .dataframe thead th {\n",
              "        text-align: right;\n",
              "    }\n",
              "</style>\n",
              "<table border=\"1\" class=\"dataframe\">\n",
              "  <thead>\n",
              "    <tr style=\"text-align: right;\">\n",
              "      <th></th>\n",
              "      <th>Image_ID</th>\n",
              "      <th>Class</th>\n",
              "    </tr>\n",
              "  </thead>\n",
              "  <tbody>\n",
              "    <tr>\n",
              "      <th>0</th>\n",
              "      <td>frame0.jpg</td>\n",
              "      <td>0</td>\n",
              "    </tr>\n",
              "    <tr>\n",
              "      <th>1</th>\n",
              "      <td>frame1.jpg</td>\n",
              "      <td>0</td>\n",
              "    </tr>\n",
              "    <tr>\n",
              "      <th>2</th>\n",
              "      <td>frame2.jpg</td>\n",
              "      <td>0</td>\n",
              "    </tr>\n",
              "    <tr>\n",
              "      <th>3</th>\n",
              "      <td>frame3.jpg</td>\n",
              "      <td>0</td>\n",
              "    </tr>\n",
              "    <tr>\n",
              "      <th>4</th>\n",
              "      <td>frame4.jpg</td>\n",
              "      <td>0</td>\n",
              "    </tr>\n",
              "  </tbody>\n",
              "</table>\n",
              "</div>\n",
              "      <button class=\"colab-df-convert\" onclick=\"convertToInteractive('df-47c526ec-3194-428f-8fb6-a4a62604ba54')\"\n",
              "              title=\"Convert this dataframe to an interactive table.\"\n",
              "              style=\"display:none;\">\n",
              "        \n",
              "  <svg xmlns=\"http://www.w3.org/2000/svg\" height=\"24px\"viewBox=\"0 0 24 24\"\n",
              "       width=\"24px\">\n",
              "    <path d=\"M0 0h24v24H0V0z\" fill=\"none\"/>\n",
              "    <path d=\"M18.56 5.44l.94 2.06.94-2.06 2.06-.94-2.06-.94-.94-2.06-.94 2.06-2.06.94zm-11 1L8.5 8.5l.94-2.06 2.06-.94-2.06-.94L8.5 2.5l-.94 2.06-2.06.94zm10 10l.94 2.06.94-2.06 2.06-.94-2.06-.94-.94-2.06-.94 2.06-2.06.94z\"/><path d=\"M17.41 7.96l-1.37-1.37c-.4-.4-.92-.59-1.43-.59-.52 0-1.04.2-1.43.59L10.3 9.45l-7.72 7.72c-.78.78-.78 2.05 0 2.83L4 21.41c.39.39.9.59 1.41.59.51 0 1.02-.2 1.41-.59l7.78-7.78 2.81-2.81c.8-.78.8-2.07 0-2.86zM5.41 20L4 18.59l7.72-7.72 1.47 1.35L5.41 20z\"/>\n",
              "  </svg>\n",
              "      </button>\n",
              "      \n",
              "  <style>\n",
              "    .colab-df-container {\n",
              "      display:flex;\n",
              "      flex-wrap:wrap;\n",
              "      gap: 12px;\n",
              "    }\n",
              "\n",
              "    .colab-df-convert {\n",
              "      background-color: #E8F0FE;\n",
              "      border: none;\n",
              "      border-radius: 50%;\n",
              "      cursor: pointer;\n",
              "      display: none;\n",
              "      fill: #1967D2;\n",
              "      height: 32px;\n",
              "      padding: 0 0 0 0;\n",
              "      width: 32px;\n",
              "    }\n",
              "\n",
              "    .colab-df-convert:hover {\n",
              "      background-color: #E2EBFA;\n",
              "      box-shadow: 0px 1px 2px rgba(60, 64, 67, 0.3), 0px 1px 3px 1px rgba(60, 64, 67, 0.15);\n",
              "      fill: #174EA6;\n",
              "    }\n",
              "\n",
              "    [theme=dark] .colab-df-convert {\n",
              "      background-color: #3B4455;\n",
              "      fill: #D2E3FC;\n",
              "    }\n",
              "\n",
              "    [theme=dark] .colab-df-convert:hover {\n",
              "      background-color: #434B5C;\n",
              "      box-shadow: 0px 1px 3px 1px rgba(0, 0, 0, 0.15);\n",
              "      filter: drop-shadow(0px 1px 2px rgba(0, 0, 0, 0.3));\n",
              "      fill: #FFFFFF;\n",
              "    }\n",
              "  </style>\n",
              "\n",
              "      <script>\n",
              "        const buttonEl =\n",
              "          document.querySelector('#df-47c526ec-3194-428f-8fb6-a4a62604ba54 button.colab-df-convert');\n",
              "        buttonEl.style.display =\n",
              "          google.colab.kernel.accessAllowed ? 'block' : 'none';\n",
              "\n",
              "        async function convertToInteractive(key) {\n",
              "          const element = document.querySelector('#df-47c526ec-3194-428f-8fb6-a4a62604ba54');\n",
              "          const dataTable =\n",
              "            await google.colab.kernel.invokeFunction('convertToInteractive',\n",
              "                                                     [key], {});\n",
              "          if (!dataTable) return;\n",
              "\n",
              "          const docLinkHtml = 'Like what you see? Visit the ' +\n",
              "            '<a target=\"_blank\" href=https://colab.research.google.com/notebooks/data_table.ipynb>data table notebook</a>'\n",
              "            + ' to learn more about interactive tables.';\n",
              "          element.innerHTML = '';\n",
              "          dataTable['output_type'] = 'display_data';\n",
              "          await google.colab.output.renderOutput(dataTable, element);\n",
              "          const docLink = document.createElement('div');\n",
              "          docLink.innerHTML = docLinkHtml;\n",
              "          element.appendChild(docLink);\n",
              "        }\n",
              "      </script>\n",
              "    </div>\n",
              "  </div>\n",
              "  "
            ]
          },
          "metadata": {},
          "execution_count": 3
        }
      ]
    },
    {
      "cell_type": "code",
      "source": [
        "X = [ ]     # creating an empty array\n",
        "for img_name in data.Image_ID:\n",
        "    img = plt.imread('' + img_name)\n",
        "    X.append(img)  # storing each image in array X\n",
        "X = np.array(X)    # converting list to array"
      ],
      "metadata": {
        "id": "BiR7ewGA9dyB"
      },
      "execution_count": 4,
      "outputs": []
    },
    {
      "cell_type": "markdown",
      "source": [
        "# **Onehot Encoding**\n",
        "\n",
        "Since there are three classes, we will one hot encode them using the to_categorical() function of keras.utils."
      ],
      "metadata": {
        "id": "Su_p5IED8_RZ"
      }
    },
    {
      "cell_type": "code",
      "source": [
        "y = data.Class\n",
        "dummy_y = np_utils.to_categorical(y)  "
      ],
      "metadata": {
        "id": "VzNCZmuw9ly6"
      },
      "execution_count": 5,
      "outputs": []
    },
    {
      "cell_type": "markdown",
      "source": [
        "# **Using VGG16 MOdel**\n",
        "\n",
        "We will be using a VGG16 pretrained model which takes an input image of shape (224 X 224 X 3). Since our images are in a different size, we need to reshape all of them. We will use the resize() function of skimage.transform to do this."
      ],
      "metadata": {
        "id": "Y0L2FSUM9dTz"
      }
    },
    {
      "cell_type": "code",
      "source": [
        "image = []\n",
        "for i in range(0,X.shape[0]):\n",
        "    a = resize(X[i], preserve_range=True, output_shape=(224,224)).astype(int)    \n",
        "    image.append(a)\n",
        "X = np.array(image)"
      ],
      "metadata": {
        "id": "vk5L-7o_9xU7"
      },
      "execution_count": 6,
      "outputs": []
    },
    {
      "cell_type": "markdown",
      "source": [
        "# **Preprocessing Of reshaped Images**"
      ],
      "metadata": {
        "id": "UGZNYA959xNn"
      }
    },
    {
      "cell_type": "code",
      "source": [
        "from keras.applications.vgg16 import preprocess_input\n",
        "X = preprocess_input(X)      # preprocessing the input data"
      ],
      "metadata": {
        "id": "fRbAUwNF9660"
      },
      "execution_count": 7,
      "outputs": []
    },
    {
      "cell_type": "markdown",
      "source": [
        "# **Train Test Splitting**\n",
        "\n",
        "We also need a validation set to check the performance of the model on unseen images. We will make use of the train_test_split() function of the sklearn.model_selection module to randomly divide images into training and validation set."
      ],
      "metadata": {
        "id": "14SN8VSc-I4R"
      }
    },
    {
      "cell_type": "code",
      "source": [
        "from sklearn.model_selection import train_test_split\n",
        "X_train, X_valid, y_train, y_valid = train_test_split(X, dummy_y, test_size=0.3, random_state=42)  "
      ],
      "metadata": {
        "id": "B9uea8df-E8N"
      },
      "execution_count": 8,
      "outputs": []
    },
    {
      "cell_type": "markdown",
      "source": [
        "# **Bulding,Compiling,Training the Model**"
      ],
      "metadata": {
        "id": "q1c4F4Kh-aTf"
      }
    },
    {
      "cell_type": "code",
      "source": [
        "from keras.models import Sequential\n",
        "from keras.applications.vgg16 import VGG16\n",
        "from keras.layers import Dense, InputLayer, Dropout"
      ],
      "metadata": {
        "id": "sBg6ozuQ-eCg"
      },
      "execution_count": 9,
      "outputs": []
    },
    {
      "cell_type": "code",
      "source": [
        "base_model = VGG16(weights='imagenet', include_top=False, input_shape=(224, 224, 3))    # include_top=False to remove the top layer"
      ],
      "metadata": {
        "colab": {
          "base_uri": "https://localhost:8080/"
        },
        "id": "6dzz7FeV-x_O",
        "outputId": "d820b365-2d12-4dae-df06-de771d0357dd"
      },
      "execution_count": 10,
      "outputs": [
        {
          "output_type": "stream",
          "name": "stdout",
          "text": [
            "Downloading data from https://storage.googleapis.com/tensorflow/keras-applications/vgg16/vgg16_weights_tf_dim_ordering_tf_kernels_notop.h5\n",
            "58889256/58889256 [==============================] - 3s 0us/step\n"
          ]
        }
      ]
    },
    {
      "cell_type": "code",
      "source": [
        "X_train = base_model.predict(X_train)\n",
        "X_valid = base_model.predict(X_valid)\n",
        "X_train.shape, X_valid.shape"
      ],
      "metadata": {
        "colab": {
          "base_uri": "https://localhost:8080/"
        },
        "id": "4I7AaABL-371",
        "outputId": "fd372a41-ad8a-44a6-f7d8-e136c3f8848b"
      },
      "execution_count": 11,
      "outputs": [
        {
          "output_type": "stream",
          "name": "stdout",
          "text": [
            "1/1 [==============================] - 22s 22s/step\n",
            "1/1 [==============================] - 6s 6s/step\n"
          ]
        },
        {
          "output_type": "execute_result",
          "data": {
            "text/plain": [
              "((25, 7, 7, 512), (11, 7, 7, 512))"
            ]
          },
          "metadata": {},
          "execution_count": 11
        }
      ]
    },
    {
      "cell_type": "code",
      "source": [
        "X_train = X_train.reshape(25, 7*7*512)      # converting to 1-D\n",
        "X_valid = X_valid.reshape(11, 7*7*512)"
      ],
      "metadata": {
        "id": "0Dcn_RFv-_61"
      },
      "execution_count": 12,
      "outputs": []
    },
    {
      "cell_type": "code",
      "source": [
        "train = X_train/X_train.max()      # centering the data\n",
        "X_valid = X_valid/X_train.max()"
      ],
      "metadata": {
        "id": "iSrhlQzG_Ppl"
      },
      "execution_count": 13,
      "outputs": []
    },
    {
      "cell_type": "code",
      "source": [
        "# i. Building the model\n",
        "model = Sequential()\n",
        "model.add(InputLayer((7*7*512,)))    # input layer\n",
        "model.add(Dense(units=1024, activation='sigmoid')) # hidden layer\n",
        "model.add(Dense(3, activation='softmax'))    # output layer"
      ],
      "metadata": {
        "id": "8_T7MoxX_bfT"
      },
      "execution_count": 14,
      "outputs": []
    },
    {
      "cell_type": "code",
      "source": [
        "model.summary()"
      ],
      "metadata": {
        "colab": {
          "base_uri": "https://localhost:8080/"
        },
        "id": "5PTBjlgA_iEW",
        "outputId": "23967b56-7fc0-438c-ba41-4d6f58fb3998"
      },
      "execution_count": 15,
      "outputs": [
        {
          "output_type": "stream",
          "name": "stdout",
          "text": [
            "Model: \"sequential\"\n",
            "_________________________________________________________________\n",
            " Layer (type)                Output Shape              Param #   \n",
            "=================================================================\n",
            " dense (Dense)               (None, 1024)              25691136  \n",
            "                                                                 \n",
            " dense_1 (Dense)             (None, 3)                 3075      \n",
            "                                                                 \n",
            "=================================================================\n",
            "Total params: 25,694,211\n",
            "Trainable params: 25,694,211\n",
            "Non-trainable params: 0\n",
            "_________________________________________________________________\n"
          ]
        }
      ]
    },
    {
      "cell_type": "code",
      "source": [
        "# ii. Compiling the model\n",
        "model.compile(loss='categorical_crossentropy', optimizer='adam', metrics=['accuracy'])"
      ],
      "metadata": {
        "id": "yBOom8yK_lPK"
      },
      "execution_count": 16,
      "outputs": []
    },
    {
      "cell_type": "code",
      "source": [
        "# iii. Training the model\n",
        "model.fit(train, y_train, epochs=100, validation_data=(X_valid, y_valid))"
      ],
      "metadata": {
        "colab": {
          "base_uri": "https://localhost:8080/"
        },
        "id": "lxypdJiuAIAY",
        "outputId": "beefeea6-cebd-4361-a344-d1d611fc028f"
      },
      "execution_count": 17,
      "outputs": [
        {
          "output_type": "stream",
          "name": "stdout",
          "text": [
            "Epoch 1/100\n",
            "1/1 [==============================] - 1s 917ms/step - loss: 1.0363 - accuracy: 0.6000 - val_loss: 0.5535 - val_accuracy: 0.7273\n",
            "Epoch 2/100\n",
            "1/1 [==============================] - 0s 188ms/step - loss: 0.4187 - accuracy: 0.8800 - val_loss: 0.4243 - val_accuracy: 0.8182\n",
            "Epoch 3/100\n",
            "1/1 [==============================] - 0s 207ms/step - loss: 0.1998 - accuracy: 0.8800 - val_loss: 0.3756 - val_accuracy: 0.8182\n",
            "Epoch 4/100\n",
            "1/1 [==============================] - 0s 188ms/step - loss: 0.0723 - accuracy: 1.0000 - val_loss: 0.3605 - val_accuracy: 0.8182\n",
            "Epoch 5/100\n",
            "1/1 [==============================] - 0s 199ms/step - loss: 0.0246 - accuracy: 1.0000 - val_loss: 0.3633 - val_accuracy: 0.8182\n",
            "Epoch 6/100\n",
            "1/1 [==============================] - 0s 196ms/step - loss: 0.0105 - accuracy: 1.0000 - val_loss: 0.3752 - val_accuracy: 0.8182\n",
            "Epoch 7/100\n",
            "1/1 [==============================] - 0s 215ms/step - loss: 0.0057 - accuracy: 1.0000 - val_loss: 0.3913 - val_accuracy: 0.8182\n",
            "Epoch 8/100\n",
            "1/1 [==============================] - 0s 192ms/step - loss: 0.0037 - accuracy: 1.0000 - val_loss: 0.4091 - val_accuracy: 0.8182\n",
            "Epoch 9/100\n",
            "1/1 [==============================] - 0s 185ms/step - loss: 0.0026 - accuracy: 1.0000 - val_loss: 0.4273 - val_accuracy: 0.8182\n",
            "Epoch 10/100\n",
            "1/1 [==============================] - 0s 195ms/step - loss: 0.0021 - accuracy: 1.0000 - val_loss: 0.4452 - val_accuracy: 0.8182\n",
            "Epoch 11/100\n",
            "1/1 [==============================] - 0s 206ms/step - loss: 0.0017 - accuracy: 1.0000 - val_loss: 0.4625 - val_accuracy: 0.8182\n",
            "Epoch 12/100\n",
            "1/1 [==============================] - 0s 189ms/step - loss: 0.0014 - accuracy: 1.0000 - val_loss: 0.4789 - val_accuracy: 0.8182\n",
            "Epoch 13/100\n",
            "1/1 [==============================] - 0s 199ms/step - loss: 0.0012 - accuracy: 1.0000 - val_loss: 0.4945 - val_accuracy: 0.8182\n",
            "Epoch 14/100\n",
            "1/1 [==============================] - 0s 199ms/step - loss: 0.0010 - accuracy: 1.0000 - val_loss: 0.5092 - val_accuracy: 0.8182\n",
            "Epoch 15/100\n",
            "1/1 [==============================] - 0s 197ms/step - loss: 9.1405e-04 - accuracy: 1.0000 - val_loss: 0.5229 - val_accuracy: 0.8182\n",
            "Epoch 16/100\n",
            "1/1 [==============================] - 0s 213ms/step - loss: 8.0413e-04 - accuracy: 1.0000 - val_loss: 0.5358 - val_accuracy: 0.8182\n",
            "Epoch 17/100\n",
            "1/1 [==============================] - 0s 188ms/step - loss: 7.1153e-04 - accuracy: 1.0000 - val_loss: 0.5478 - val_accuracy: 0.8182\n",
            "Epoch 18/100\n",
            "1/1 [==============================] - 0s 186ms/step - loss: 6.3285e-04 - accuracy: 1.0000 - val_loss: 0.5590 - val_accuracy: 0.8182\n",
            "Epoch 19/100\n",
            "1/1 [==============================] - 0s 191ms/step - loss: 5.6557e-04 - accuracy: 1.0000 - val_loss: 0.5694 - val_accuracy: 0.8182\n",
            "Epoch 20/100\n",
            "1/1 [==============================] - 0s 204ms/step - loss: 5.0778e-04 - accuracy: 1.0000 - val_loss: 0.5792 - val_accuracy: 0.8182\n",
            "Epoch 21/100\n",
            "1/1 [==============================] - 0s 186ms/step - loss: 4.5799e-04 - accuracy: 1.0000 - val_loss: 0.5882 - val_accuracy: 0.8182\n",
            "Epoch 22/100\n",
            "1/1 [==============================] - 0s 185ms/step - loss: 4.1491e-04 - accuracy: 1.0000 - val_loss: 0.5966 - val_accuracy: 0.8182\n",
            "Epoch 23/100\n",
            "1/1 [==============================] - 0s 187ms/step - loss: 3.7758e-04 - accuracy: 1.0000 - val_loss: 0.6044 - val_accuracy: 0.8182\n",
            "Epoch 24/100\n",
            "1/1 [==============================] - 0s 194ms/step - loss: 3.4504e-04 - accuracy: 1.0000 - val_loss: 0.6116 - val_accuracy: 0.8182\n",
            "Epoch 25/100\n",
            "1/1 [==============================] - 0s 196ms/step - loss: 3.1666e-04 - accuracy: 1.0000 - val_loss: 0.6183 - val_accuracy: 0.8182\n",
            "Epoch 26/100\n",
            "1/1 [==============================] - 0s 191ms/step - loss: 2.9182e-04 - accuracy: 1.0000 - val_loss: 0.6245 - val_accuracy: 0.7273\n",
            "Epoch 27/100\n",
            "1/1 [==============================] - 0s 193ms/step - loss: 2.7003e-04 - accuracy: 1.0000 - val_loss: 0.6303 - val_accuracy: 0.7273\n",
            "Epoch 28/100\n",
            "1/1 [==============================] - 0s 192ms/step - loss: 2.5082e-04 - accuracy: 1.0000 - val_loss: 0.6356 - val_accuracy: 0.7273\n",
            "Epoch 29/100\n",
            "1/1 [==============================] - 0s 185ms/step - loss: 2.3386e-04 - accuracy: 1.0000 - val_loss: 0.6405 - val_accuracy: 0.7273\n",
            "Epoch 30/100\n",
            "1/1 [==============================] - 0s 196ms/step - loss: 2.1883e-04 - accuracy: 1.0000 - val_loss: 0.6451 - val_accuracy: 0.7273\n",
            "Epoch 31/100\n",
            "1/1 [==============================] - 0s 202ms/step - loss: 2.0550e-04 - accuracy: 1.0000 - val_loss: 0.6493 - val_accuracy: 0.7273\n",
            "Epoch 32/100\n",
            "1/1 [==============================] - 0s 184ms/step - loss: 1.9358e-04 - accuracy: 1.0000 - val_loss: 0.6532 - val_accuracy: 0.7273\n",
            "Epoch 33/100\n",
            "1/1 [==============================] - 0s 193ms/step - loss: 1.8296e-04 - accuracy: 1.0000 - val_loss: 0.6568 - val_accuracy: 0.7273\n",
            "Epoch 34/100\n",
            "1/1 [==============================] - 0s 192ms/step - loss: 1.7344e-04 - accuracy: 1.0000 - val_loss: 0.6601 - val_accuracy: 0.7273\n",
            "Epoch 35/100\n",
            "1/1 [==============================] - 0s 196ms/step - loss: 1.6486e-04 - accuracy: 1.0000 - val_loss: 0.6632 - val_accuracy: 0.7273\n",
            "Epoch 36/100\n",
            "1/1 [==============================] - 0s 201ms/step - loss: 1.5714e-04 - accuracy: 1.0000 - val_loss: 0.6661 - val_accuracy: 0.7273\n",
            "Epoch 37/100\n",
            "1/1 [==============================] - 0s 186ms/step - loss: 1.5017e-04 - accuracy: 1.0000 - val_loss: 0.6687 - val_accuracy: 0.7273\n",
            "Epoch 38/100\n",
            "1/1 [==============================] - 0s 217ms/step - loss: 1.4386e-04 - accuracy: 1.0000 - val_loss: 0.6711 - val_accuracy: 0.7273\n",
            "Epoch 39/100\n",
            "1/1 [==============================] - 0s 200ms/step - loss: 1.3809e-04 - accuracy: 1.0000 - val_loss: 0.6733 - val_accuracy: 0.7273\n",
            "Epoch 40/100\n",
            "1/1 [==============================] - 0s 190ms/step - loss: 1.3288e-04 - accuracy: 1.0000 - val_loss: 0.6754 - val_accuracy: 0.7273\n",
            "Epoch 41/100\n",
            "1/1 [==============================] - 0s 202ms/step - loss: 1.2808e-04 - accuracy: 1.0000 - val_loss: 0.6773 - val_accuracy: 0.7273\n",
            "Epoch 42/100\n",
            "1/1 [==============================] - 0s 194ms/step - loss: 1.2372e-04 - accuracy: 1.0000 - val_loss: 0.6790 - val_accuracy: 0.7273\n",
            "Epoch 43/100\n",
            "1/1 [==============================] - 0s 186ms/step - loss: 1.1970e-04 - accuracy: 1.0000 - val_loss: 0.6806 - val_accuracy: 0.7273\n",
            "Epoch 44/100\n",
            "1/1 [==============================] - 0s 185ms/step - loss: 1.1602e-04 - accuracy: 1.0000 - val_loss: 0.6821 - val_accuracy: 0.7273\n",
            "Epoch 45/100\n",
            "1/1 [==============================] - 0s 201ms/step - loss: 1.1260e-04 - accuracy: 1.0000 - val_loss: 0.6835 - val_accuracy: 0.7273\n",
            "Epoch 46/100\n",
            "1/1 [==============================] - 0s 192ms/step - loss: 1.0944e-04 - accuracy: 1.0000 - val_loss: 0.6847 - val_accuracy: 0.7273\n",
            "Epoch 47/100\n",
            "1/1 [==============================] - 0s 182ms/step - loss: 1.0653e-04 - accuracy: 1.0000 - val_loss: 0.6859 - val_accuracy: 0.7273\n",
            "Epoch 48/100\n",
            "1/1 [==============================] - 0s 189ms/step - loss: 1.0384e-04 - accuracy: 1.0000 - val_loss: 0.6870 - val_accuracy: 0.7273\n",
            "Epoch 49/100\n",
            "1/1 [==============================] - 0s 215ms/step - loss: 1.0131e-04 - accuracy: 1.0000 - val_loss: 0.6879 - val_accuracy: 0.7273\n",
            "Epoch 50/100\n",
            "1/1 [==============================] - 0s 183ms/step - loss: 9.8955e-05 - accuracy: 1.0000 - val_loss: 0.6888 - val_accuracy: 0.7273\n",
            "Epoch 51/100\n",
            "1/1 [==============================] - 0s 191ms/step - loss: 9.6776e-05 - accuracy: 1.0000 - val_loss: 0.6897 - val_accuracy: 0.7273\n",
            "Epoch 52/100\n",
            "1/1 [==============================] - 0s 186ms/step - loss: 9.4722e-05 - accuracy: 1.0000 - val_loss: 0.6904 - val_accuracy: 0.7273\n",
            "Epoch 53/100\n",
            "1/1 [==============================] - 0s 183ms/step - loss: 9.2787e-05 - accuracy: 1.0000 - val_loss: 0.6911 - val_accuracy: 0.7273\n",
            "Epoch 54/100\n",
            "1/1 [==============================] - 0s 181ms/step - loss: 9.0980e-05 - accuracy: 1.0000 - val_loss: 0.6917 - val_accuracy: 0.7273\n",
            "Epoch 55/100\n",
            "1/1 [==============================] - 0s 198ms/step - loss: 8.9274e-05 - accuracy: 1.0000 - val_loss: 0.6923 - val_accuracy: 0.7273\n",
            "Epoch 56/100\n",
            "1/1 [==============================] - 0s 199ms/step - loss: 8.7668e-05 - accuracy: 1.0000 - val_loss: 0.6928 - val_accuracy: 0.7273\n",
            "Epoch 57/100\n",
            "1/1 [==============================] - 0s 182ms/step - loss: 8.6152e-05 - accuracy: 1.0000 - val_loss: 0.6933 - val_accuracy: 0.7273\n",
            "Epoch 58/100\n",
            "1/1 [==============================] - 0s 183ms/step - loss: 8.4703e-05 - accuracy: 1.0000 - val_loss: 0.6938 - val_accuracy: 0.7273\n",
            "Epoch 59/100\n",
            "1/1 [==============================] - 0s 190ms/step - loss: 8.3344e-05 - accuracy: 1.0000 - val_loss: 0.6942 - val_accuracy: 0.7273\n",
            "Epoch 60/100\n",
            "1/1 [==============================] - 0s 229ms/step - loss: 8.2029e-05 - accuracy: 1.0000 - val_loss: 0.6945 - val_accuracy: 0.7273\n",
            "Epoch 61/100\n",
            "1/1 [==============================] - 0s 191ms/step - loss: 8.0799e-05 - accuracy: 1.0000 - val_loss: 0.6949 - val_accuracy: 0.7273\n",
            "Epoch 62/100\n",
            "1/1 [==============================] - 0s 203ms/step - loss: 7.9617e-05 - accuracy: 1.0000 - val_loss: 0.6951 - val_accuracy: 0.7273\n",
            "Epoch 63/100\n",
            "1/1 [==============================] - 0s 191ms/step - loss: 7.8487e-05 - accuracy: 1.0000 - val_loss: 0.6954 - val_accuracy: 0.7273\n",
            "Epoch 64/100\n",
            "1/1 [==============================] - 0s 182ms/step - loss: 7.7424e-05 - accuracy: 1.0000 - val_loss: 0.6956 - val_accuracy: 0.7273\n",
            "Epoch 65/100\n",
            "1/1 [==============================] - 0s 189ms/step - loss: 7.6380e-05 - accuracy: 1.0000 - val_loss: 0.6958 - val_accuracy: 0.7273\n",
            "Epoch 66/100\n",
            "1/1 [==============================] - 0s 186ms/step - loss: 7.5398e-05 - accuracy: 1.0000 - val_loss: 0.6960 - val_accuracy: 0.7273\n",
            "Epoch 67/100\n",
            "1/1 [==============================] - 0s 208ms/step - loss: 7.4454e-05 - accuracy: 1.0000 - val_loss: 0.6962 - val_accuracy: 0.7273\n",
            "Epoch 68/100\n",
            "1/1 [==============================] - 0s 189ms/step - loss: 7.3529e-05 - accuracy: 1.0000 - val_loss: 0.6963 - val_accuracy: 0.7273\n",
            "Epoch 69/100\n",
            "1/1 [==============================] - 0s 186ms/step - loss: 7.2647e-05 - accuracy: 1.0000 - val_loss: 0.6964 - val_accuracy: 0.7273\n",
            "Epoch 70/100\n",
            "1/1 [==============================] - 0s 185ms/step - loss: 7.1794e-05 - accuracy: 1.0000 - val_loss: 0.6965 - val_accuracy: 0.7273\n",
            "Epoch 71/100\n",
            "1/1 [==============================] - 0s 197ms/step - loss: 7.0979e-05 - accuracy: 1.0000 - val_loss: 0.6966 - val_accuracy: 0.7273\n",
            "Epoch 72/100\n",
            "1/1 [==============================] - 0s 195ms/step - loss: 7.0188e-05 - accuracy: 1.0000 - val_loss: 0.6967 - val_accuracy: 0.7273\n",
            "Epoch 73/100\n",
            "1/1 [==============================] - 0s 183ms/step - loss: 6.9411e-05 - accuracy: 1.0000 - val_loss: 0.6967 - val_accuracy: 0.7273\n",
            "Epoch 74/100\n",
            "1/1 [==============================] - 0s 184ms/step - loss: 6.8676e-05 - accuracy: 1.0000 - val_loss: 0.6968 - val_accuracy: 0.7273\n",
            "Epoch 75/100\n",
            "1/1 [==============================] - 0s 192ms/step - loss: 6.7957e-05 - accuracy: 1.0000 - val_loss: 0.6968 - val_accuracy: 0.7273\n",
            "Epoch 76/100\n",
            "1/1 [==============================] - 0s 187ms/step - loss: 6.7261e-05 - accuracy: 1.0000 - val_loss: 0.6968 - val_accuracy: 0.7273\n",
            "Epoch 77/100\n",
            "1/1 [==============================] - 0s 209ms/step - loss: 6.6560e-05 - accuracy: 1.0000 - val_loss: 0.6968 - val_accuracy: 0.7273\n",
            "Epoch 78/100\n",
            "1/1 [==============================] - 0s 190ms/step - loss: 6.5892e-05 - accuracy: 1.0000 - val_loss: 0.6968 - val_accuracy: 0.7273\n",
            "Epoch 79/100\n",
            "1/1 [==============================] - 0s 191ms/step - loss: 6.5254e-05 - accuracy: 1.0000 - val_loss: 0.6967 - val_accuracy: 0.7273\n",
            "Epoch 80/100\n",
            "1/1 [==============================] - 0s 187ms/step - loss: 6.4634e-05 - accuracy: 1.0000 - val_loss: 0.6967 - val_accuracy: 0.7273\n",
            "Epoch 81/100\n",
            "1/1 [==============================] - 0s 197ms/step - loss: 6.4024e-05 - accuracy: 1.0000 - val_loss: 0.6967 - val_accuracy: 0.7273\n",
            "Epoch 82/100\n",
            "1/1 [==============================] - 0s 187ms/step - loss: 6.3437e-05 - accuracy: 1.0000 - val_loss: 0.6966 - val_accuracy: 0.7273\n",
            "Epoch 83/100\n",
            "1/1 [==============================] - 0s 201ms/step - loss: 6.2860e-05 - accuracy: 1.0000 - val_loss: 0.6965 - val_accuracy: 0.7273\n",
            "Epoch 84/100\n",
            "1/1 [==============================] - 0s 186ms/step - loss: 6.2298e-05 - accuracy: 1.0000 - val_loss: 0.6964 - val_accuracy: 0.7273\n",
            "Epoch 85/100\n",
            "1/1 [==============================] - 0s 191ms/step - loss: 6.1735e-05 - accuracy: 1.0000 - val_loss: 0.6964 - val_accuracy: 0.7273\n",
            "Epoch 86/100\n",
            "1/1 [==============================] - 0s 186ms/step - loss: 6.1216e-05 - accuracy: 1.0000 - val_loss: 0.6963 - val_accuracy: 0.7273\n",
            "Epoch 87/100\n",
            "1/1 [==============================] - 0s 188ms/step - loss: 6.0682e-05 - accuracy: 1.0000 - val_loss: 0.6962 - val_accuracy: 0.7273\n",
            "Epoch 88/100\n",
            "1/1 [==============================] - 0s 205ms/step - loss: 6.0157e-05 - accuracy: 1.0000 - val_loss: 0.6961 - val_accuracy: 0.7273\n",
            "Epoch 89/100\n",
            "1/1 [==============================] - 0s 193ms/step - loss: 5.9652e-05 - accuracy: 1.0000 - val_loss: 0.6959 - val_accuracy: 0.7273\n",
            "Epoch 90/100\n",
            "1/1 [==============================] - 0s 188ms/step - loss: 5.9156e-05 - accuracy: 1.0000 - val_loss: 0.6958 - val_accuracy: 0.7273\n",
            "Epoch 91/100\n",
            "1/1 [==============================] - 0s 188ms/step - loss: 5.8675e-05 - accuracy: 1.0000 - val_loss: 0.6957 - val_accuracy: 0.7273\n",
            "Epoch 92/100\n",
            "1/1 [==============================] - 0s 184ms/step - loss: 5.8179e-05 - accuracy: 1.0000 - val_loss: 0.6955 - val_accuracy: 0.7273\n",
            "Epoch 93/100\n",
            "1/1 [==============================] - 0s 206ms/step - loss: 5.7726e-05 - accuracy: 1.0000 - val_loss: 0.6954 - val_accuracy: 0.7273\n",
            "Epoch 94/100\n",
            "1/1 [==============================] - 0s 190ms/step - loss: 5.7264e-05 - accuracy: 1.0000 - val_loss: 0.6953 - val_accuracy: 0.7273\n",
            "Epoch 95/100\n",
            "1/1 [==============================] - 0s 195ms/step - loss: 5.6811e-05 - accuracy: 1.0000 - val_loss: 0.6951 - val_accuracy: 0.7273\n",
            "Epoch 96/100\n",
            "1/1 [==============================] - 0s 186ms/step - loss: 5.6367e-05 - accuracy: 1.0000 - val_loss: 0.6949 - val_accuracy: 0.7273\n",
            "Epoch 97/100\n",
            "1/1 [==============================] - 0s 187ms/step - loss: 5.5933e-05 - accuracy: 1.0000 - val_loss: 0.6948 - val_accuracy: 0.7273\n",
            "Epoch 98/100\n",
            "1/1 [==============================] - 0s 191ms/step - loss: 5.5514e-05 - accuracy: 1.0000 - val_loss: 0.6946 - val_accuracy: 0.7273\n",
            "Epoch 99/100\n",
            "1/1 [==============================] - 0s 200ms/step - loss: 5.5099e-05 - accuracy: 1.0000 - val_loss: 0.6944 - val_accuracy: 0.7273\n",
            "Epoch 100/100\n",
            "1/1 [==============================] - 0s 186ms/step - loss: 5.4675e-05 - accuracy: 1.0000 - val_loss: 0.6943 - val_accuracy: 0.7273\n"
          ]
        },
        {
          "output_type": "execute_result",
          "data": {
            "text/plain": [
              "<keras.callbacks.History at 0x7f427f015a60>"
            ]
          },
          "metadata": {},
          "execution_count": 17
        }
      ]
    },
    {
      "cell_type": "code",
      "source": [
        "scores = model.evaluate(train, y_train)\n",
        "print(\"%s: %.2f%%\" % (model.metrics_names[1], scores[1]*100))"
      ],
      "metadata": {
        "colab": {
          "base_uri": "https://localhost:8080/"
        },
        "id": "2c1C8NJDALpx",
        "outputId": "8dbb1fee-c42d-4c7d-afb7-99eaa2f945fe"
      },
      "execution_count": 18,
      "outputs": [
        {
          "output_type": "stream",
          "name": "stdout",
          "text": [
            "1/1 [==============================] - 0s 59ms/step - loss: 5.4279e-05 - accuracy: 1.0000\n",
            "accuracy: 100.00%\n"
          ]
        }
      ]
    },
    {
      "cell_type": "markdown",
      "source": [
        "# **Model Evaluation Using Test data**"
      ],
      "metadata": {
        "id": "oSkEl_iO-wbM"
      }
    },
    {
      "cell_type": "code",
      "source": [
        "count = 0\n",
        "videoFile = \"/content/Crying rono.mp4\"\n",
        "cap = cv2.VideoCapture(videoFile)\n",
        "frameRate = cap.get(5) #frame rate\n",
        "x=1\n",
        "while(cap.isOpened()):\n",
        "    frameId = cap.get(1) #current frame number\n",
        "    ret, frame = cap.read()\n",
        "    if (ret != True):\n",
        "        break\n",
        "    if (frameId % math.floor(frameRate) == 0):\n",
        "        filename =\"test%d.jpg\" % count;count+=1\n",
        "        cv2.imwrite(filename, frame)\n",
        "cap.release()\n",
        "print (\"Done!\")"
      ],
      "metadata": {
        "colab": {
          "base_uri": "https://localhost:8080/"
        },
        "id": "c9yuNwRdB6r-",
        "outputId": "c4baad5b-a627-4570-f8fa-0bd48ae986e9"
      },
      "execution_count": 19,
      "outputs": [
        {
          "output_type": "stream",
          "name": "stdout",
          "text": [
            "Done!\n"
          ]
        }
      ]
    },
    {
      "cell_type": "code",
      "source": [
        "data1 = pd.read_csv('/content/test - test1.csv')     # reading the csv file\n",
        "data1.head()      # printing first five rows of the file"
      ],
      "metadata": {
        "colab": {
          "base_uri": "https://localhost:8080/",
          "height": 206
        },
        "id": "Yure--ueNFj2",
        "outputId": "8f1bc0fc-a982-4781-faf1-d7a46d7d6609"
      },
      "execution_count": 20,
      "outputs": [
        {
          "output_type": "execute_result",
          "data": {
            "text/plain": [
              "    Image_ID\n",
              "0  test0.jpg\n",
              "1  test1.jpg\n",
              "2  test2.jpg\n",
              "3  test3.jpg\n",
              "4  test4.jpg"
            ],
            "text/html": [
              "\n",
              "  <div id=\"df-0d6c3aa8-bbd9-4625-a3dd-fbe6d1769ee0\">\n",
              "    <div class=\"colab-df-container\">\n",
              "      <div>\n",
              "<style scoped>\n",
              "    .dataframe tbody tr th:only-of-type {\n",
              "        vertical-align: middle;\n",
              "    }\n",
              "\n",
              "    .dataframe tbody tr th {\n",
              "        vertical-align: top;\n",
              "    }\n",
              "\n",
              "    .dataframe thead th {\n",
              "        text-align: right;\n",
              "    }\n",
              "</style>\n",
              "<table border=\"1\" class=\"dataframe\">\n",
              "  <thead>\n",
              "    <tr style=\"text-align: right;\">\n",
              "      <th></th>\n",
              "      <th>Image_ID</th>\n",
              "    </tr>\n",
              "  </thead>\n",
              "  <tbody>\n",
              "    <tr>\n",
              "      <th>0</th>\n",
              "      <td>test0.jpg</td>\n",
              "    </tr>\n",
              "    <tr>\n",
              "      <th>1</th>\n",
              "      <td>test1.jpg</td>\n",
              "    </tr>\n",
              "    <tr>\n",
              "      <th>2</th>\n",
              "      <td>test2.jpg</td>\n",
              "    </tr>\n",
              "    <tr>\n",
              "      <th>3</th>\n",
              "      <td>test3.jpg</td>\n",
              "    </tr>\n",
              "    <tr>\n",
              "      <th>4</th>\n",
              "      <td>test4.jpg</td>\n",
              "    </tr>\n",
              "  </tbody>\n",
              "</table>\n",
              "</div>\n",
              "      <button class=\"colab-df-convert\" onclick=\"convertToInteractive('df-0d6c3aa8-bbd9-4625-a3dd-fbe6d1769ee0')\"\n",
              "              title=\"Convert this dataframe to an interactive table.\"\n",
              "              style=\"display:none;\">\n",
              "        \n",
              "  <svg xmlns=\"http://www.w3.org/2000/svg\" height=\"24px\"viewBox=\"0 0 24 24\"\n",
              "       width=\"24px\">\n",
              "    <path d=\"M0 0h24v24H0V0z\" fill=\"none\"/>\n",
              "    <path d=\"M18.56 5.44l.94 2.06.94-2.06 2.06-.94-2.06-.94-.94-2.06-.94 2.06-2.06.94zm-11 1L8.5 8.5l.94-2.06 2.06-.94-2.06-.94L8.5 2.5l-.94 2.06-2.06.94zm10 10l.94 2.06.94-2.06 2.06-.94-2.06-.94-.94-2.06-.94 2.06-2.06.94z\"/><path d=\"M17.41 7.96l-1.37-1.37c-.4-.4-.92-.59-1.43-.59-.52 0-1.04.2-1.43.59L10.3 9.45l-7.72 7.72c-.78.78-.78 2.05 0 2.83L4 21.41c.39.39.9.59 1.41.59.51 0 1.02-.2 1.41-.59l7.78-7.78 2.81-2.81c.8-.78.8-2.07 0-2.86zM5.41 20L4 18.59l7.72-7.72 1.47 1.35L5.41 20z\"/>\n",
              "  </svg>\n",
              "      </button>\n",
              "      \n",
              "  <style>\n",
              "    .colab-df-container {\n",
              "      display:flex;\n",
              "      flex-wrap:wrap;\n",
              "      gap: 12px;\n",
              "    }\n",
              "\n",
              "    .colab-df-convert {\n",
              "      background-color: #E8F0FE;\n",
              "      border: none;\n",
              "      border-radius: 50%;\n",
              "      cursor: pointer;\n",
              "      display: none;\n",
              "      fill: #1967D2;\n",
              "      height: 32px;\n",
              "      padding: 0 0 0 0;\n",
              "      width: 32px;\n",
              "    }\n",
              "\n",
              "    .colab-df-convert:hover {\n",
              "      background-color: #E2EBFA;\n",
              "      box-shadow: 0px 1px 2px rgba(60, 64, 67, 0.3), 0px 1px 3px 1px rgba(60, 64, 67, 0.15);\n",
              "      fill: #174EA6;\n",
              "    }\n",
              "\n",
              "    [theme=dark] .colab-df-convert {\n",
              "      background-color: #3B4455;\n",
              "      fill: #D2E3FC;\n",
              "    }\n",
              "\n",
              "    [theme=dark] .colab-df-convert:hover {\n",
              "      background-color: #434B5C;\n",
              "      box-shadow: 0px 1px 3px 1px rgba(0, 0, 0, 0.15);\n",
              "      filter: drop-shadow(0px 1px 2px rgba(0, 0, 0, 0.3));\n",
              "      fill: #FFFFFF;\n",
              "    }\n",
              "  </style>\n",
              "\n",
              "      <script>\n",
              "        const buttonEl =\n",
              "          document.querySelector('#df-0d6c3aa8-bbd9-4625-a3dd-fbe6d1769ee0 button.colab-df-convert');\n",
              "        buttonEl.style.display =\n",
              "          google.colab.kernel.accessAllowed ? 'block' : 'none';\n",
              "\n",
              "        async function convertToInteractive(key) {\n",
              "          const element = document.querySelector('#df-0d6c3aa8-bbd9-4625-a3dd-fbe6d1769ee0');\n",
              "          const dataTable =\n",
              "            await google.colab.kernel.invokeFunction('convertToInteractive',\n",
              "                                                     [key], {});\n",
              "          if (!dataTable) return;\n",
              "\n",
              "          const docLinkHtml = 'Like what you see? Visit the ' +\n",
              "            '<a target=\"_blank\" href=https://colab.research.google.com/notebooks/data_table.ipynb>data table notebook</a>'\n",
              "            + ' to learn more about interactive tables.';\n",
              "          element.innerHTML = '';\n",
              "          dataTable['output_type'] = 'display_data';\n",
              "          await google.colab.output.renderOutput(dataTable, element);\n",
              "          const docLink = document.createElement('div');\n",
              "          docLink.innerHTML = docLinkHtml;\n",
              "          element.appendChild(docLink);\n",
              "        }\n",
              "      </script>\n",
              "    </div>\n",
              "  </div>\n",
              "  "
            ]
          },
          "metadata": {},
          "execution_count": 20
        }
      ]
    },
    {
      "cell_type": "code",
      "source": [
        "data1.shape"
      ],
      "metadata": {
        "colab": {
          "base_uri": "https://localhost:8080/"
        },
        "id": "TZE5KqmWN-5S",
        "outputId": "db9e9cb2-a1bc-4161-e438-ca0e394b66e9"
      },
      "execution_count": 21,
      "outputs": [
        {
          "output_type": "execute_result",
          "data": {
            "text/plain": [
              "(30, 1)"
            ]
          },
          "metadata": {},
          "execution_count": 21
        }
      ]
    }
  ]
}