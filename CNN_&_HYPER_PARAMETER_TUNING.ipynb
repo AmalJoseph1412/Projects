{
  "nbformat": 4,
  "nbformat_minor": 0,
  "metadata": {
    "colab": {
      "provenance": [],
      "collapsed_sections": []
    },
    "kernelspec": {
      "name": "python3",
      "display_name": "Python 3"
    },
    "language_info": {
      "name": "python"
    }
  },
  "cells": [
    {
      "cell_type": "code",
      "source": [
        "%matplotlib inline\n",
        "import numpy as np\n",
        "import pandas as pd\n",
        "import seaborn as sns\n",
        "import pandas_profiling as pp\n",
        "import matplotlib.pyplot as plt\n",
        "sns.set()\n",
        "from sklearn.preprocessing import LabelEncoder\n",
        "from sklearn.metrics import confusion_matrix, classification_report, accuracy_score\n",
        "from sklearn.preprocessing import StandardScaler\n",
        "from sklearn.model_selection import train_test_split"
      ],
      "metadata": {
        "id": "EiP8DxUWWIkj"
      },
      "execution_count": 1,
      "outputs": []
    },
    {
      "cell_type": "markdown",
      "source": [
        "# **Data Exploration**"
      ],
      "metadata": {
        "id": "A-ipPdSyfukv"
      }
    },
    {
      "cell_type": "code",
      "source": [
        "df = pd.read_csv('/content/magic_gamma_telescope04_.csv')"
      ],
      "metadata": {
        "id": "d3jR_2DuZCAS"
      },
      "execution_count": 2,
      "outputs": []
    },
    {
      "cell_type": "code",
      "source": [
        "df.head(10)"
      ],
      "metadata": {
        "colab": {
          "base_uri": "https://localhost:8080/",
          "height": 363
        },
        "id": "Aj_vd1SoZ17E",
        "outputId": "f2fef0e4-f0fd-4c09-b0bb-7794a814d57b"
      },
      "execution_count": 3,
      "outputs": [
        {
          "output_type": "execute_result",
          "data": {
            "text/plain": [
              "    flength    fwidth   fsize   fconc  fconc1      fsym  fm3long  fm3trans  \\\n",
              "0   28.7967   16.0021  2.6449  0.3918  0.1982   27.7004  22.0110   -8.2027   \n",
              "1   31.6036   11.7235  2.5185  0.5303  0.3773   26.2722  23.8238   -9.9574   \n",
              "2  162.0520  136.0310  4.0612  0.0374  0.0187  116.7410 -64.8580  -45.2160   \n",
              "3   23.8172    9.5728  2.3385  0.6147  0.3922   27.2107  -6.4633   -7.1513   \n",
              "4   75.1362   30.9205  3.1611  0.3168  0.1832   -5.5277  28.5525   21.8393   \n",
              "5   51.6240   21.1502  2.9085  0.2420  0.1340   50.8761  43.1887    9.8145   \n",
              "6   48.2468   17.3565  3.0332  0.2529  0.1515    8.5730  38.0957   10.5868   \n",
              "7   26.7897   13.7595  2.5521  0.4236  0.2174   29.6339  20.4560   -2.9292   \n",
              "8   96.2327   46.5165  4.1540  0.0779  0.0390  110.3550  85.0486   43.1844   \n",
              "9   46.7619   15.1993  2.5786  0.3377  0.1913   24.7548  43.8771   -6.6812   \n",
              "\n",
              "    falpha      dist class  \n",
              "0  40.0920   81.8828     g  \n",
              "1   6.3609  205.2610     g  \n",
              "2  76.9600  256.7880     g  \n",
              "3  10.4490  116.7370     g  \n",
              "4   4.6480  356.4620     g  \n",
              "5   3.6130  238.0980     g  \n",
              "6   4.7920  219.0870     g  \n",
              "7   0.8120  237.1340     g  \n",
              "8   4.8540  248.2260     g  \n",
              "9   7.8750  102.2510     g  "
            ],
            "text/html": [
              "\n",
              "  <div id=\"df-da8ae831-f51f-4b91-839a-47150b393e87\">\n",
              "    <div class=\"colab-df-container\">\n",
              "      <div>\n",
              "<style scoped>\n",
              "    .dataframe tbody tr th:only-of-type {\n",
              "        vertical-align: middle;\n",
              "    }\n",
              "\n",
              "    .dataframe tbody tr th {\n",
              "        vertical-align: top;\n",
              "    }\n",
              "\n",
              "    .dataframe thead th {\n",
              "        text-align: right;\n",
              "    }\n",
              "</style>\n",
              "<table border=\"1\" class=\"dataframe\">\n",
              "  <thead>\n",
              "    <tr style=\"text-align: right;\">\n",
              "      <th></th>\n",
              "      <th>flength</th>\n",
              "      <th>fwidth</th>\n",
              "      <th>fsize</th>\n",
              "      <th>fconc</th>\n",
              "      <th>fconc1</th>\n",
              "      <th>fsym</th>\n",
              "      <th>fm3long</th>\n",
              "      <th>fm3trans</th>\n",
              "      <th>falpha</th>\n",
              "      <th>dist</th>\n",
              "      <th>class</th>\n",
              "    </tr>\n",
              "  </thead>\n",
              "  <tbody>\n",
              "    <tr>\n",
              "      <th>0</th>\n",
              "      <td>28.7967</td>\n",
              "      <td>16.0021</td>\n",
              "      <td>2.6449</td>\n",
              "      <td>0.3918</td>\n",
              "      <td>0.1982</td>\n",
              "      <td>27.7004</td>\n",
              "      <td>22.0110</td>\n",
              "      <td>-8.2027</td>\n",
              "      <td>40.0920</td>\n",
              "      <td>81.8828</td>\n",
              "      <td>g</td>\n",
              "    </tr>\n",
              "    <tr>\n",
              "      <th>1</th>\n",
              "      <td>31.6036</td>\n",
              "      <td>11.7235</td>\n",
              "      <td>2.5185</td>\n",
              "      <td>0.5303</td>\n",
              "      <td>0.3773</td>\n",
              "      <td>26.2722</td>\n",
              "      <td>23.8238</td>\n",
              "      <td>-9.9574</td>\n",
              "      <td>6.3609</td>\n",
              "      <td>205.2610</td>\n",
              "      <td>g</td>\n",
              "    </tr>\n",
              "    <tr>\n",
              "      <th>2</th>\n",
              "      <td>162.0520</td>\n",
              "      <td>136.0310</td>\n",
              "      <td>4.0612</td>\n",
              "      <td>0.0374</td>\n",
              "      <td>0.0187</td>\n",
              "      <td>116.7410</td>\n",
              "      <td>-64.8580</td>\n",
              "      <td>-45.2160</td>\n",
              "      <td>76.9600</td>\n",
              "      <td>256.7880</td>\n",
              "      <td>g</td>\n",
              "    </tr>\n",
              "    <tr>\n",
              "      <th>3</th>\n",
              "      <td>23.8172</td>\n",
              "      <td>9.5728</td>\n",
              "      <td>2.3385</td>\n",
              "      <td>0.6147</td>\n",
              "      <td>0.3922</td>\n",
              "      <td>27.2107</td>\n",
              "      <td>-6.4633</td>\n",
              "      <td>-7.1513</td>\n",
              "      <td>10.4490</td>\n",
              "      <td>116.7370</td>\n",
              "      <td>g</td>\n",
              "    </tr>\n",
              "    <tr>\n",
              "      <th>4</th>\n",
              "      <td>75.1362</td>\n",
              "      <td>30.9205</td>\n",
              "      <td>3.1611</td>\n",
              "      <td>0.3168</td>\n",
              "      <td>0.1832</td>\n",
              "      <td>-5.5277</td>\n",
              "      <td>28.5525</td>\n",
              "      <td>21.8393</td>\n",
              "      <td>4.6480</td>\n",
              "      <td>356.4620</td>\n",
              "      <td>g</td>\n",
              "    </tr>\n",
              "    <tr>\n",
              "      <th>5</th>\n",
              "      <td>51.6240</td>\n",
              "      <td>21.1502</td>\n",
              "      <td>2.9085</td>\n",
              "      <td>0.2420</td>\n",
              "      <td>0.1340</td>\n",
              "      <td>50.8761</td>\n",
              "      <td>43.1887</td>\n",
              "      <td>9.8145</td>\n",
              "      <td>3.6130</td>\n",
              "      <td>238.0980</td>\n",
              "      <td>g</td>\n",
              "    </tr>\n",
              "    <tr>\n",
              "      <th>6</th>\n",
              "      <td>48.2468</td>\n",
              "      <td>17.3565</td>\n",
              "      <td>3.0332</td>\n",
              "      <td>0.2529</td>\n",
              "      <td>0.1515</td>\n",
              "      <td>8.5730</td>\n",
              "      <td>38.0957</td>\n",
              "      <td>10.5868</td>\n",
              "      <td>4.7920</td>\n",
              "      <td>219.0870</td>\n",
              "      <td>g</td>\n",
              "    </tr>\n",
              "    <tr>\n",
              "      <th>7</th>\n",
              "      <td>26.7897</td>\n",
              "      <td>13.7595</td>\n",
              "      <td>2.5521</td>\n",
              "      <td>0.4236</td>\n",
              "      <td>0.2174</td>\n",
              "      <td>29.6339</td>\n",
              "      <td>20.4560</td>\n",
              "      <td>-2.9292</td>\n",
              "      <td>0.8120</td>\n",
              "      <td>237.1340</td>\n",
              "      <td>g</td>\n",
              "    </tr>\n",
              "    <tr>\n",
              "      <th>8</th>\n",
              "      <td>96.2327</td>\n",
              "      <td>46.5165</td>\n",
              "      <td>4.1540</td>\n",
              "      <td>0.0779</td>\n",
              "      <td>0.0390</td>\n",
              "      <td>110.3550</td>\n",
              "      <td>85.0486</td>\n",
              "      <td>43.1844</td>\n",
              "      <td>4.8540</td>\n",
              "      <td>248.2260</td>\n",
              "      <td>g</td>\n",
              "    </tr>\n",
              "    <tr>\n",
              "      <th>9</th>\n",
              "      <td>46.7619</td>\n",
              "      <td>15.1993</td>\n",
              "      <td>2.5786</td>\n",
              "      <td>0.3377</td>\n",
              "      <td>0.1913</td>\n",
              "      <td>24.7548</td>\n",
              "      <td>43.8771</td>\n",
              "      <td>-6.6812</td>\n",
              "      <td>7.8750</td>\n",
              "      <td>102.2510</td>\n",
              "      <td>g</td>\n",
              "    </tr>\n",
              "  </tbody>\n",
              "</table>\n",
              "</div>\n",
              "      <button class=\"colab-df-convert\" onclick=\"convertToInteractive('df-da8ae831-f51f-4b91-839a-47150b393e87')\"\n",
              "              title=\"Convert this dataframe to an interactive table.\"\n",
              "              style=\"display:none;\">\n",
              "        \n",
              "  <svg xmlns=\"http://www.w3.org/2000/svg\" height=\"24px\"viewBox=\"0 0 24 24\"\n",
              "       width=\"24px\">\n",
              "    <path d=\"M0 0h24v24H0V0z\" fill=\"none\"/>\n",
              "    <path d=\"M18.56 5.44l.94 2.06.94-2.06 2.06-.94-2.06-.94-.94-2.06-.94 2.06-2.06.94zm-11 1L8.5 8.5l.94-2.06 2.06-.94-2.06-.94L8.5 2.5l-.94 2.06-2.06.94zm10 10l.94 2.06.94-2.06 2.06-.94-2.06-.94-.94-2.06-.94 2.06-2.06.94z\"/><path d=\"M17.41 7.96l-1.37-1.37c-.4-.4-.92-.59-1.43-.59-.52 0-1.04.2-1.43.59L10.3 9.45l-7.72 7.72c-.78.78-.78 2.05 0 2.83L4 21.41c.39.39.9.59 1.41.59.51 0 1.02-.2 1.41-.59l7.78-7.78 2.81-2.81c.8-.78.8-2.07 0-2.86zM5.41 20L4 18.59l7.72-7.72 1.47 1.35L5.41 20z\"/>\n",
              "  </svg>\n",
              "      </button>\n",
              "      \n",
              "  <style>\n",
              "    .colab-df-container {\n",
              "      display:flex;\n",
              "      flex-wrap:wrap;\n",
              "      gap: 12px;\n",
              "    }\n",
              "\n",
              "    .colab-df-convert {\n",
              "      background-color: #E8F0FE;\n",
              "      border: none;\n",
              "      border-radius: 50%;\n",
              "      cursor: pointer;\n",
              "      display: none;\n",
              "      fill: #1967D2;\n",
              "      height: 32px;\n",
              "      padding: 0 0 0 0;\n",
              "      width: 32px;\n",
              "    }\n",
              "\n",
              "    .colab-df-convert:hover {\n",
              "      background-color: #E2EBFA;\n",
              "      box-shadow: 0px 1px 2px rgba(60, 64, 67, 0.3), 0px 1px 3px 1px rgba(60, 64, 67, 0.15);\n",
              "      fill: #174EA6;\n",
              "    }\n",
              "\n",
              "    [theme=dark] .colab-df-convert {\n",
              "      background-color: #3B4455;\n",
              "      fill: #D2E3FC;\n",
              "    }\n",
              "\n",
              "    [theme=dark] .colab-df-convert:hover {\n",
              "      background-color: #434B5C;\n",
              "      box-shadow: 0px 1px 3px 1px rgba(0, 0, 0, 0.15);\n",
              "      filter: drop-shadow(0px 1px 2px rgba(0, 0, 0, 0.3));\n",
              "      fill: #FFFFFF;\n",
              "    }\n",
              "  </style>\n",
              "\n",
              "      <script>\n",
              "        const buttonEl =\n",
              "          document.querySelector('#df-da8ae831-f51f-4b91-839a-47150b393e87 button.colab-df-convert');\n",
              "        buttonEl.style.display =\n",
              "          google.colab.kernel.accessAllowed ? 'block' : 'none';\n",
              "\n",
              "        async function convertToInteractive(key) {\n",
              "          const element = document.querySelector('#df-da8ae831-f51f-4b91-839a-47150b393e87');\n",
              "          const dataTable =\n",
              "            await google.colab.kernel.invokeFunction('convertToInteractive',\n",
              "                                                     [key], {});\n",
              "          if (!dataTable) return;\n",
              "\n",
              "          const docLinkHtml = 'Like what you see? Visit the ' +\n",
              "            '<a target=\"_blank\" href=https://colab.research.google.com/notebooks/data_table.ipynb>data table notebook</a>'\n",
              "            + ' to learn more about interactive tables.';\n",
              "          element.innerHTML = '';\n",
              "          dataTable['output_type'] = 'display_data';\n",
              "          await google.colab.output.renderOutput(dataTable, element);\n",
              "          const docLink = document.createElement('div');\n",
              "          docLink.innerHTML = docLinkHtml;\n",
              "          element.appendChild(docLink);\n",
              "        }\n",
              "      </script>\n",
              "    </div>\n",
              "  </div>\n",
              "  "
            ]
          },
          "metadata": {},
          "execution_count": 3
        }
      ]
    },
    {
      "cell_type": "code",
      "source": [
        "df.info()"
      ],
      "metadata": {
        "colab": {
          "base_uri": "https://localhost:8080/"
        },
        "id": "q3jpKx1sZ9zl",
        "outputId": "c8c092c8-123a-4306-dd22-7c596a941c39"
      },
      "execution_count": 4,
      "outputs": [
        {
          "output_type": "stream",
          "name": "stdout",
          "text": [
            "<class 'pandas.core.frame.DataFrame'>\n",
            "RangeIndex: 19020 entries, 0 to 19019\n",
            "Data columns (total 11 columns):\n",
            " #   Column    Non-Null Count  Dtype  \n",
            "---  ------    --------------  -----  \n",
            " 0   flength   19020 non-null  float64\n",
            " 1   fwidth    19020 non-null  float64\n",
            " 2   fsize     19020 non-null  float64\n",
            " 3   fconc     19020 non-null  float64\n",
            " 4   fconc1    19020 non-null  float64\n",
            " 5   fsym      19020 non-null  float64\n",
            " 6   fm3long   19020 non-null  float64\n",
            " 7   fm3trans  19020 non-null  float64\n",
            " 8   falpha    19020 non-null  float64\n",
            " 9   dist      19020 non-null  float64\n",
            " 10  class     19020 non-null  object \n",
            "dtypes: float64(10), object(1)\n",
            "memory usage: 1.6+ MB\n"
          ]
        }
      ]
    },
    {
      "cell_type": "code",
      "source": [
        "x = df.drop(['class'], axis=1)\n",
        "y = df['class']"
      ],
      "metadata": {
        "id": "qOqQZO2pa2Nm"
      },
      "execution_count": 5,
      "outputs": []
    },
    {
      "cell_type": "code",
      "source": [
        "sns.pairplot(x)\n",
        "plt.show()"
      ],
      "metadata": {
        "id": "zGVH1lxxbOq7"
      },
      "execution_count": 6,
      "outputs": []
    },
    {
      "cell_type": "code",
      "source": [
        "le = LabelEncoder()\n",
        "y = le.fit_transform(y)"
      ],
      "metadata": {
        "id": "PJaeRmatbYeO"
      },
      "execution_count": 7,
      "outputs": []
    },
    {
      "cell_type": "markdown",
      "source": [
        "# **Train-Test Split**"
      ],
      "metadata": {
        "id": "EGqPv330f8qu"
      }
    },
    {
      "cell_type": "code",
      "source": [
        "x_train, x_test, y_train, y_test = train_test_split(x, y, test_size=0.25, random_state=0)"
      ],
      "metadata": {
        "id": "4kCMCsS-cCn-"
      },
      "execution_count": 8,
      "outputs": []
    },
    {
      "cell_type": "markdown",
      "source": [
        "# **Feature Scaling**"
      ],
      "metadata": {
        "id": "cZH6MLE3gCZf"
      }
    },
    {
      "cell_type": "code",
      "source": [
        "scaler = StandardScaler()\n",
        "x_train, x_test = scaler.fit_transform(x_train), scaler.transform(x_test)"
      ],
      "metadata": {
        "id": "u2U3Pr_KcHBr"
      },
      "execution_count": 9,
      "outputs": []
    },
    {
      "cell_type": "markdown",
      "source": [
        "# **Model Building and Evaluation**"
      ],
      "metadata": {
        "id": "zVeBXcVjgMz6"
      }
    },
    {
      "cell_type": "code",
      "source": [
        "accuracies = {}"
      ],
      "metadata": {
        "id": "-AKBdMKPcMJc"
      },
      "execution_count": 10,
      "outputs": []
    },
    {
      "cell_type": "markdown",
      "source": [
        "# **Random Forest**"
      ],
      "metadata": {
        "id": "XmRvIms6gUxj"
      }
    },
    {
      "cell_type": "code",
      "source": [
        "from sklearn.ensemble import RandomForestClassifier\n",
        "\n",
        "model = RandomForestClassifier(\n",
        "    n_estimators=100, \n",
        "    criterion='entropy', \n",
        "    random_state=0\n",
        ")\n",
        "model.fit(x_train, y_train)\n",
        "\n",
        "y_pred = model.predict(x_test)\n",
        "sns.heatmap(confusion_matrix(y_test, y_pred), cmap='YlGnBu', annot=True)\n",
        "plt.show()\n",
        "accuracies['RandomForest'] = accuracy_score(y_test, y_pred) * 100\n",
        "print(f\"Accuracy: {accuracies['RandomForest']:.2f}%\\n\")\n",
        "print(classification_report(y_test, y_pred, target_names=['gamma', 'hadron']))"
      ],
      "metadata": {
        "colab": {
          "base_uri": "https://localhost:8080/"
        },
        "id": "tuV6QlPpcdgX",
        "outputId": "6b3da2bb-f9ea-4be5-e8d4-88a1ad0b4750"
      },
      "execution_count": 11,
      "outputs": [
        {
          "output_type": "stream",
          "name": "stdout",
          "text": [
            "Accuracy: 88.56%\n",
            "\n",
            "              precision    recall  f1-score   support\n",
            "\n",
            "       gamma       0.88      0.95      0.92      3079\n",
            "      hadron       0.90      0.76      0.82      1676\n",
            "\n",
            "    accuracy                           0.89      4755\n",
            "   macro avg       0.89      0.86      0.87      4755\n",
            "weighted avg       0.89      0.89      0.88      4755\n",
            "\n"
          ]
        }
      ]
    },
    {
      "cell_type": "markdown",
      "source": [
        "# **Logistic Regression**"
      ],
      "metadata": {
        "id": "Lx-JXsn8gY9T"
      }
    },
    {
      "cell_type": "code",
      "source": [
        "from sklearn.linear_model import SGDClassifier\n",
        "\n",
        "model = SGDClassifier(random_state=0)\n",
        "model.fit(x_train, y_train)\n",
        "\n",
        "y_pred = model.predict(x_test)\n",
        "sns.heatmap(confusion_matrix(y_test, y_pred), cmap='YlGnBu', annot=True)\n",
        "plt.show()\n",
        "accuracies['LogReg'] = accuracy_score(y_test, y_pred) * 100\n",
        "print(f\"Accuracy: {accuracies['LogReg']:.2f}%\\n\")\n",
        "print(classification_report(y_test, y_pred, target_names=['gamma', 'hadron']))"
      ],
      "metadata": {
        "colab": {
          "base_uri": "https://localhost:8080/"
        },
        "id": "hR9WttCJcjQh",
        "outputId": "4341d5b6-3093-47df-fd97-8107f1984fbd"
      },
      "execution_count": 12,
      "outputs": [
        {
          "output_type": "stream",
          "name": "stdout",
          "text": [
            "Accuracy: 78.84%\n",
            "\n",
            "              precision    recall  f1-score   support\n",
            "\n",
            "       gamma       0.80      0.89      0.85      3079\n",
            "      hadron       0.75      0.59      0.66      1676\n",
            "\n",
            "    accuracy                           0.79      4755\n",
            "   macro avg       0.78      0.74      0.75      4755\n",
            "weighted avg       0.78      0.79      0.78      4755\n",
            "\n"
          ]
        }
      ]
    },
    {
      "cell_type": "markdown",
      "source": [
        "# **Support Vector Machine**"
      ],
      "metadata": {
        "id": "CeRN5MFdgjUi"
      }
    },
    {
      "cell_type": "code",
      "source": [
        "from sklearn.svm import SVC\n",
        "\n",
        "model = SVC(C=57, random_state=0)\n",
        "model.fit(x_train, y_train)\n",
        "\n",
        "y_pred = model.predict(x_test)\n",
        "sns.heatmap(confusion_matrix(y_test, y_pred), cmap='YlGnBu', annot=True)\n",
        "plt.show()\n",
        "accuracies['SVM'] = accuracy_score(y_test, y_pred) * 100\n",
        "print(f\"Accuracy: {accuracies['SVM']:.2f}%\\n\")\n",
        "print(classification_report(y_test, y_pred, target_names=['gamma', 'hadron']))"
      ],
      "metadata": {
        "colab": {
          "base_uri": "https://localhost:8080/"
        },
        "id": "XgYOYfoRcxsA",
        "outputId": "f0550e98-3bd7-4fb6-b741-a8e202a43efa"
      },
      "execution_count": 13,
      "outputs": [
        {
          "output_type": "stream",
          "name": "stdout",
          "text": [
            "Accuracy: 87.19%\n",
            "\n",
            "              precision    recall  f1-score   support\n",
            "\n",
            "       gamma       0.86      0.96      0.91      3079\n",
            "      hadron       0.90      0.71      0.80      1676\n",
            "\n",
            "    accuracy                           0.87      4755\n",
            "   macro avg       0.88      0.84      0.85      4755\n",
            "weighted avg       0.87      0.87      0.87      4755\n",
            "\n"
          ]
        }
      ]
    },
    {
      "cell_type": "markdown",
      "source": [
        "# **Decision Tree**"
      ],
      "metadata": {
        "id": "mYoOpgetgnlQ"
      }
    },
    {
      "cell_type": "code",
      "source": [
        "from sklearn.tree import DecisionTreeClassifier\n",
        "model = DecisionTreeClassifier(criterion='entropy', random_state=0)\n",
        "model.fit(x_train, y_train)\n",
        "y_pred = model.predict(x_test)\n",
        "sns.heatmap(confusion_matrix(y_test, y_pred), cmap='YlGnBu', annot=True)\n",
        "plt.show()\n",
        "accuracies['DT'] = accuracy_score(y_test, y_pred) * 100\n",
        "print(f\"Accuracy: {accuracies['DT']:.2f}%\\n\")\n",
        "print(classification_report(y_test, y_pred, target_names=['gamma', 'hadron']))"
      ],
      "metadata": {
        "colab": {
          "base_uri": "https://localhost:8080/"
        },
        "id": "n-w88Dqgc3f5",
        "outputId": "461de6c5-61e7-42d0-95bf-348860e1f934"
      },
      "execution_count": 14,
      "outputs": [
        {
          "output_type": "stream",
          "name": "stdout",
          "text": [
            "Accuracy: 81.43%\n",
            "\n",
            "              precision    recall  f1-score   support\n",
            "\n",
            "       gamma       0.86      0.85      0.86      3079\n",
            "      hadron       0.73      0.75      0.74      1676\n",
            "\n",
            "    accuracy                           0.81      4755\n",
            "   macro avg       0.80      0.80      0.80      4755\n",
            "weighted avg       0.82      0.81      0.81      4755\n",
            "\n"
          ]
        }
      ]
    },
    {
      "cell_type": "markdown",
      "source": [
        "# **Neural Network**"
      ],
      "metadata": {
        "id": "9t8cD0UngvEE"
      }
    },
    {
      "cell_type": "code",
      "source": [
        "import tensorflow as tf\n",
        "\n",
        "model = tf.keras.models.Sequential([\n",
        "    tf.keras.layers.Dense(256, activation='relu'),\n",
        "    tf.keras.layers.Dropout(0.2),\n",
        "    tf.keras.layers.Dense(512, activation='relu'),\n",
        "    tf.keras.layers.Dropout(0.2),\n",
        "    tf.keras.layers.Dense(256, activation='relu'),\n",
        "    tf.keras.layers.Dropout(0.2),\n",
        "    tf.keras.layers.Dense(2, activation='sigmoid'),\n",
        "])\n",
        "\n",
        "model.compile(\n",
        "    optimizer='adam',\n",
        "    loss='sparse_categorical_crossentropy',\n",
        "    metrics=['accuracy']\n",
        ")"
      ],
      "metadata": {
        "id": "oZqMhKG9dCjf"
      },
      "execution_count": 15,
      "outputs": []
    },
    {
      "cell_type": "code",
      "source": [
        "x_train_nn, x_cv_nn, y_train_nn, y_cv_nn = train_test_split(x_train, y_train, test_size=0.25, random_state=0)"
      ],
      "metadata": {
        "id": "0chEWBrsdLTA"
      },
      "execution_count": 16,
      "outputs": []
    },
    {
      "cell_type": "code",
      "source": [
        "num_epochs = 6\n",
        "history = model.fit(\n",
        "    x_train_nn, y_train_nn, epochs=num_epochs, \n",
        "    validation_data=(x_cv_nn, y_cv_nn),\n",
        "    steps_per_epoch=x_train.shape[0] // num_epochs,\n",
        "    callbacks=[\n",
        "        tf.keras.callbacks.ReduceLROnPlateau(patience=2, verbose=2)\n",
        "    ]\n",
        ")"
      ],
      "metadata": {
        "colab": {
          "base_uri": "https://localhost:8080/"
        },
        "id": "RoGJhTpqdRNB",
        "outputId": "a385fa56-faca-4747-c10b-9b135078758c"
      },
      "execution_count": 17,
      "outputs": [
        {
          "output_type": "stream",
          "name": "stdout",
          "text": [
            "Epoch 1/6\n",
            "2377/2377 [==============================] - 7s 3ms/step - loss: 0.3965 - accuracy: 0.8330 - val_loss: 0.3436 - val_accuracy: 0.8677 - lr: 0.0010\n",
            "Epoch 2/6\n",
            "2377/2377 [==============================] - 6s 3ms/step - loss: 0.3512 - accuracy: 0.8556 - val_loss: 0.3297 - val_accuracy: 0.8741 - lr: 0.0010\n",
            "Epoch 3/6\n",
            "2377/2377 [==============================] - 6s 3ms/step - loss: 0.3416 - accuracy: 0.8601 - val_loss: 0.3295 - val_accuracy: 0.8682 - lr: 0.0010\n",
            "Epoch 4/6\n",
            "2377/2377 [==============================] - 6s 3ms/step - loss: 0.3432 - accuracy: 0.8605 - val_loss: 0.3102 - val_accuracy: 0.8738 - lr: 0.0010\n",
            "Epoch 5/6\n",
            "2377/2377 [==============================] - 6s 3ms/step - loss: 0.3346 - accuracy: 0.8623 - val_loss: 0.3161 - val_accuracy: 0.8769 - lr: 0.0010\n",
            "Epoch 6/6\n",
            " 939/2377 [==========>...................] - ETA: 3s - loss: 0.3327 - accuracy: 0.8662"
          ]
        },
        {
          "output_type": "stream",
          "name": "stderr",
          "text": [
            "WARNING:tensorflow:Your input ran out of data; interrupting training. Make sure that your dataset or generator can generate at least `steps_per_epoch * epochs` batches (in this case, 14262 batches). You may need to use the repeat() function when building your dataset.\n"
          ]
        },
        {
          "output_type": "stream",
          "name": "stdout",
          "text": [
            "\n",
            "Epoch 6: ReduceLROnPlateau reducing learning rate to 0.00010000000474974513.\n",
            "2377/2377 [==============================] - 3s 1ms/step - loss: 0.3332 - accuracy: 0.8653 - val_loss: 0.3178 - val_accuracy: 0.8719 - lr: 0.0010\n"
          ]
        }
      ]
    },
    {
      "cell_type": "code",
      "source": [
        "loss_train = history.history['loss']\n",
        "loss_validation = history.history['val_loss']\n",
        "epochs = range(1, num_epochs + 1)\n",
        "plt.plot(epochs, loss_train, 'g', label='Training')\n",
        "plt.plot(epochs, loss_validation, 'b', label='Validation')\n",
        "plt.xlabel('Epochs')\n",
        "plt.ylabel('Loss')\n",
        "plt.title('Loss')\n",
        "plt.legend()\n",
        "plt.show()"
      ],
      "metadata": {
        "id": "RWasfluadXy2"
      },
      "execution_count": 18,
      "outputs": []
    },
    {
      "cell_type": "code",
      "source": [
        "acc_train = history.history['accuracy']\n",
        "acc_validation = history.history['val_accuracy']\n",
        "epochs = range(1, num_epochs + 1)\n",
        "plt.plot(epochs, acc_train, 'g', label='Training')\n",
        "plt.plot(epochs, acc_validation, 'b', label='Validation')\n",
        "plt.xlabel('Epochs')\n",
        "plt.ylabel('Accuracy')\n",
        "plt.title('Accuracy')\n",
        "plt.legend()\n",
        "plt.show()"
      ],
      "metadata": {
        "id": "PL7xZk7Jd3Vh"
      },
      "execution_count": 19,
      "outputs": []
    },
    {
      "cell_type": "code",
      "source": [
        "y_pred = model.predict(x_test)\n",
        "y_pred = [np.argmax(y) for y in y_pred]\n",
        "sns.heatmap(confusion_matrix(y_test, y_pred), cmap='YlGnBu', annot=True)\n",
        "plt.show()\n",
        "accuracies['NN'] = accuracy_score(y_test, y_pred) * 100\n",
        "print(f\"Accuracy: {accuracies['NN']:.2f}%\\n\")\n",
        "print(classification_report(y_test, y_pred, target_names=['gamma', 'hadron']))"
      ],
      "metadata": {
        "colab": {
          "base_uri": "https://localhost:8080/"
        },
        "id": "dXWgHlGGd87Q",
        "outputId": "7c47dde0-8352-41f0-c9c3-72af2f55f589"
      },
      "execution_count": 20,
      "outputs": [
        {
          "output_type": "stream",
          "name": "stdout",
          "text": [
            "149/149 [==============================] - 0s 1ms/step\n",
            "Accuracy: 87.15%\n",
            "\n",
            "              precision    recall  f1-score   support\n",
            "\n",
            "       gamma       0.88      0.93      0.90      3079\n",
            "      hadron       0.86      0.76      0.81      1676\n",
            "\n",
            "    accuracy                           0.87      4755\n",
            "   macro avg       0.87      0.85      0.86      4755\n",
            "weighted avg       0.87      0.87      0.87      4755\n",
            "\n"
          ]
        }
      ]
    },
    {
      "cell_type": "markdown",
      "source": [
        "# **Results**"
      ],
      "metadata": {
        "id": "eFF21eu8g9Cn"
      }
    },
    {
      "cell_type": "code",
      "source": [
        "ax = sns.barplot(list(accuracies.keys()), list(accuracies.values()))\n",
        "for p in ax.patches:\n",
        "    ax.annotate(\n",
        "        f'{p.get_height():2.2f}%', \n",
        "        (p.get_x() + p.get_width() / 2., p.get_height()), \n",
        "        ha = 'center', va = 'center', \n",
        "        xytext = (0, -20), textcoords = 'offset points'\n",
        "    )\n",
        "plt.xlabel('Models')\n",
        "plt.ylabel('Accuracy')\n",
        "plt.show()"
      ],
      "metadata": {
        "colab": {
          "base_uri": "https://localhost:8080/"
        },
        "id": "1dpFLE7ueExI",
        "outputId": "c7045b92-afc1-46c4-d60c-21bea3f03fbf"
      },
      "execution_count": 21,
      "outputs": [
        {
          "output_type": "stream",
          "name": "stderr",
          "text": [
            "/usr/local/lib/python3.7/dist-packages/seaborn/_decorators.py:43: FutureWarning: Pass the following variables as keyword args: x, y. From version 0.12, the only valid positional argument will be `data`, and passing other arguments without an explicit keyword will result in an error or misinterpretation.\n",
            "  FutureWarning\n"
          ]
        }
      ]
    },
    {
      "cell_type": "code",
      "source": [],
      "metadata": {
        "id": "woPhT1-QeOC6"
      },
      "execution_count": 21,
      "outputs": []
    }
  ]
}