{
  "nbformat": 4,
  "nbformat_minor": 0,
  "metadata": {
    "colab": {
      "provenance": [],
      "collapsed_sections": []
    },
    "kernelspec": {
      "name": "python3",
      "display_name": "Python 3"
    },
    "language_info": {
      "name": "python"
    }
  },
  "cells": [
    {
      "cell_type": "code",
      "execution_count": 1,
      "metadata": {
        "id": "ncp5OeEQ-kt7"
      },
      "outputs": [],
      "source": [
        "import pandas as pd\n",
        "import numpy as np"
      ]
    },
    {
      "cell_type": "code",
      "source": [
        "import chardet\n",
        "with open('/content/spam.csv', 'rb') as rawdata:\n",
        "    result = chardet.detect(rawdata.read(100000))\n",
        "result"
      ],
      "metadata": {
        "colab": {
          "base_uri": "https://localhost:8080/"
        },
        "id": "m61WNMe-AI8K",
        "outputId": "c5a99b5c-1fd8-4121-e4e6-424bc30f7d3d"
      },
      "execution_count": 2,
      "outputs": [
        {
          "output_type": "execute_result",
          "data": {
            "text/plain": [
              "{'encoding': 'Windows-1252', 'confidence': 0.7270322499829184, 'language': ''}"
            ]
          },
          "metadata": {},
          "execution_count": 2
        }
      ]
    },
    {
      "cell_type": "code",
      "source": [
        "df= pd.read_csv('/content/spam.csv',encoding='Windows-1252')\n",
        "df.head()"
      ],
      "metadata": {
        "colab": {
          "base_uri": "https://localhost:8080/",
          "height": 206
        },
        "id": "EBSI7woUAI-j",
        "outputId": "13f4a162-6138-414a-ee73-5944f6a37429"
      },
      "execution_count": 3,
      "outputs": [
        {
          "output_type": "execute_result",
          "data": {
            "text/plain": [
              "     v1                                                 v2 Unnamed: 2  \\\n",
              "0   ham  Go until jurong point, crazy.. Available only ...        NaN   \n",
              "1   ham                      Ok lar... Joking wif u oni...        NaN   \n",
              "2  spam  Free entry in 2 a wkly comp to win FA Cup fina...        NaN   \n",
              "3   ham  U dun say so early hor... U c already then say...        NaN   \n",
              "4   ham  Nah I don't think he goes to usf, he lives aro...        NaN   \n",
              "\n",
              "  Unnamed: 3 Unnamed: 4  \n",
              "0        NaN        NaN  \n",
              "1        NaN        NaN  \n",
              "2        NaN        NaN  \n",
              "3        NaN        NaN  \n",
              "4        NaN        NaN  "
            ],
            "text/html": [
              "\n",
              "  <div id=\"df-df7fd0e0-6234-49fc-b992-bcc743668374\">\n",
              "    <div class=\"colab-df-container\">\n",
              "      <div>\n",
              "<style scoped>\n",
              "    .dataframe tbody tr th:only-of-type {\n",
              "        vertical-align: middle;\n",
              "    }\n",
              "\n",
              "    .dataframe tbody tr th {\n",
              "        vertical-align: top;\n",
              "    }\n",
              "\n",
              "    .dataframe thead th {\n",
              "        text-align: right;\n",
              "    }\n",
              "</style>\n",
              "<table border=\"1\" class=\"dataframe\">\n",
              "  <thead>\n",
              "    <tr style=\"text-align: right;\">\n",
              "      <th></th>\n",
              "      <th>v1</th>\n",
              "      <th>v2</th>\n",
              "      <th>Unnamed: 2</th>\n",
              "      <th>Unnamed: 3</th>\n",
              "      <th>Unnamed: 4</th>\n",
              "    </tr>\n",
              "  </thead>\n",
              "  <tbody>\n",
              "    <tr>\n",
              "      <th>0</th>\n",
              "      <td>ham</td>\n",
              "      <td>Go until jurong point, crazy.. Available only ...</td>\n",
              "      <td>NaN</td>\n",
              "      <td>NaN</td>\n",
              "      <td>NaN</td>\n",
              "    </tr>\n",
              "    <tr>\n",
              "      <th>1</th>\n",
              "      <td>ham</td>\n",
              "      <td>Ok lar... Joking wif u oni...</td>\n",
              "      <td>NaN</td>\n",
              "      <td>NaN</td>\n",
              "      <td>NaN</td>\n",
              "    </tr>\n",
              "    <tr>\n",
              "      <th>2</th>\n",
              "      <td>spam</td>\n",
              "      <td>Free entry in 2 a wkly comp to win FA Cup fina...</td>\n",
              "      <td>NaN</td>\n",
              "      <td>NaN</td>\n",
              "      <td>NaN</td>\n",
              "    </tr>\n",
              "    <tr>\n",
              "      <th>3</th>\n",
              "      <td>ham</td>\n",
              "      <td>U dun say so early hor... U c already then say...</td>\n",
              "      <td>NaN</td>\n",
              "      <td>NaN</td>\n",
              "      <td>NaN</td>\n",
              "    </tr>\n",
              "    <tr>\n",
              "      <th>4</th>\n",
              "      <td>ham</td>\n",
              "      <td>Nah I don't think he goes to usf, he lives aro...</td>\n",
              "      <td>NaN</td>\n",
              "      <td>NaN</td>\n",
              "      <td>NaN</td>\n",
              "    </tr>\n",
              "  </tbody>\n",
              "</table>\n",
              "</div>\n",
              "      <button class=\"colab-df-convert\" onclick=\"convertToInteractive('df-df7fd0e0-6234-49fc-b992-bcc743668374')\"\n",
              "              title=\"Convert this dataframe to an interactive table.\"\n",
              "              style=\"display:none;\">\n",
              "        \n",
              "  <svg xmlns=\"http://www.w3.org/2000/svg\" height=\"24px\"viewBox=\"0 0 24 24\"\n",
              "       width=\"24px\">\n",
              "    <path d=\"M0 0h24v24H0V0z\" fill=\"none\"/>\n",
              "    <path d=\"M18.56 5.44l.94 2.06.94-2.06 2.06-.94-2.06-.94-.94-2.06-.94 2.06-2.06.94zm-11 1L8.5 8.5l.94-2.06 2.06-.94-2.06-.94L8.5 2.5l-.94 2.06-2.06.94zm10 10l.94 2.06.94-2.06 2.06-.94-2.06-.94-.94-2.06-.94 2.06-2.06.94z\"/><path d=\"M17.41 7.96l-1.37-1.37c-.4-.4-.92-.59-1.43-.59-.52 0-1.04.2-1.43.59L10.3 9.45l-7.72 7.72c-.78.78-.78 2.05 0 2.83L4 21.41c.39.39.9.59 1.41.59.51 0 1.02-.2 1.41-.59l7.78-7.78 2.81-2.81c.8-.78.8-2.07 0-2.86zM5.41 20L4 18.59l7.72-7.72 1.47 1.35L5.41 20z\"/>\n",
              "  </svg>\n",
              "      </button>\n",
              "      \n",
              "  <style>\n",
              "    .colab-df-container {\n",
              "      display:flex;\n",
              "      flex-wrap:wrap;\n",
              "      gap: 12px;\n",
              "    }\n",
              "\n",
              "    .colab-df-convert {\n",
              "      background-color: #E8F0FE;\n",
              "      border: none;\n",
              "      border-radius: 50%;\n",
              "      cursor: pointer;\n",
              "      display: none;\n",
              "      fill: #1967D2;\n",
              "      height: 32px;\n",
              "      padding: 0 0 0 0;\n",
              "      width: 32px;\n",
              "    }\n",
              "\n",
              "    .colab-df-convert:hover {\n",
              "      background-color: #E2EBFA;\n",
              "      box-shadow: 0px 1px 2px rgba(60, 64, 67, 0.3), 0px 1px 3px 1px rgba(60, 64, 67, 0.15);\n",
              "      fill: #174EA6;\n",
              "    }\n",
              "\n",
              "    [theme=dark] .colab-df-convert {\n",
              "      background-color: #3B4455;\n",
              "      fill: #D2E3FC;\n",
              "    }\n",
              "\n",
              "    [theme=dark] .colab-df-convert:hover {\n",
              "      background-color: #434B5C;\n",
              "      box-shadow: 0px 1px 3px 1px rgba(0, 0, 0, 0.15);\n",
              "      filter: drop-shadow(0px 1px 2px rgba(0, 0, 0, 0.3));\n",
              "      fill: #FFFFFF;\n",
              "    }\n",
              "  </style>\n",
              "\n",
              "      <script>\n",
              "        const buttonEl =\n",
              "          document.querySelector('#df-df7fd0e0-6234-49fc-b992-bcc743668374 button.colab-df-convert');\n",
              "        buttonEl.style.display =\n",
              "          google.colab.kernel.accessAllowed ? 'block' : 'none';\n",
              "\n",
              "        async function convertToInteractive(key) {\n",
              "          const element = document.querySelector('#df-df7fd0e0-6234-49fc-b992-bcc743668374');\n",
              "          const dataTable =\n",
              "            await google.colab.kernel.invokeFunction('convertToInteractive',\n",
              "                                                     [key], {});\n",
              "          if (!dataTable) return;\n",
              "\n",
              "          const docLinkHtml = 'Like what you see? Visit the ' +\n",
              "            '<a target=\"_blank\" href=https://colab.research.google.com/notebooks/data_table.ipynb>data table notebook</a>'\n",
              "            + ' to learn more about interactive tables.';\n",
              "          element.innerHTML = '';\n",
              "          dataTable['output_type'] = 'display_data';\n",
              "          await google.colab.output.renderOutput(dataTable, element);\n",
              "          const docLink = document.createElement('div');\n",
              "          docLink.innerHTML = docLinkHtml;\n",
              "          element.appendChild(docLink);\n",
              "        }\n",
              "      </script>\n",
              "    </div>\n",
              "  </div>\n",
              "  "
            ]
          },
          "metadata": {},
          "execution_count": 3
        }
      ]
    },
    {
      "cell_type": "code",
      "source": [
        "df=df.drop([\"Unnamed: 2\",\"Unnamed: 3\",\"Unnamed: 4\"],axis=1)"
      ],
      "metadata": {
        "id": "viRJTzieAJA6"
      },
      "execution_count": 4,
      "outputs": []
    },
    {
      "cell_type": "code",
      "source": [
        "df.head(5)"
      ],
      "metadata": {
        "colab": {
          "base_uri": "https://localhost:8080/",
          "height": 206
        },
        "id": "1ZuSJPCyEkuK",
        "outputId": "eb6379f7-a0d6-4be9-bf06-83e583415f2f"
      },
      "execution_count": 5,
      "outputs": [
        {
          "output_type": "execute_result",
          "data": {
            "text/plain": [
              "     v1                                                 v2\n",
              "0   ham  Go until jurong point, crazy.. Available only ...\n",
              "1   ham                      Ok lar... Joking wif u oni...\n",
              "2  spam  Free entry in 2 a wkly comp to win FA Cup fina...\n",
              "3   ham  U dun say so early hor... U c already then say...\n",
              "4   ham  Nah I don't think he goes to usf, he lives aro..."
            ],
            "text/html": [
              "\n",
              "  <div id=\"df-785a2bf0-41c8-4a94-9864-2ea637955f65\">\n",
              "    <div class=\"colab-df-container\">\n",
              "      <div>\n",
              "<style scoped>\n",
              "    .dataframe tbody tr th:only-of-type {\n",
              "        vertical-align: middle;\n",
              "    }\n",
              "\n",
              "    .dataframe tbody tr th {\n",
              "        vertical-align: top;\n",
              "    }\n",
              "\n",
              "    .dataframe thead th {\n",
              "        text-align: right;\n",
              "    }\n",
              "</style>\n",
              "<table border=\"1\" class=\"dataframe\">\n",
              "  <thead>\n",
              "    <tr style=\"text-align: right;\">\n",
              "      <th></th>\n",
              "      <th>v1</th>\n",
              "      <th>v2</th>\n",
              "    </tr>\n",
              "  </thead>\n",
              "  <tbody>\n",
              "    <tr>\n",
              "      <th>0</th>\n",
              "      <td>ham</td>\n",
              "      <td>Go until jurong point, crazy.. Available only ...</td>\n",
              "    </tr>\n",
              "    <tr>\n",
              "      <th>1</th>\n",
              "      <td>ham</td>\n",
              "      <td>Ok lar... Joking wif u oni...</td>\n",
              "    </tr>\n",
              "    <tr>\n",
              "      <th>2</th>\n",
              "      <td>spam</td>\n",
              "      <td>Free entry in 2 a wkly comp to win FA Cup fina...</td>\n",
              "    </tr>\n",
              "    <tr>\n",
              "      <th>3</th>\n",
              "      <td>ham</td>\n",
              "      <td>U dun say so early hor... U c already then say...</td>\n",
              "    </tr>\n",
              "    <tr>\n",
              "      <th>4</th>\n",
              "      <td>ham</td>\n",
              "      <td>Nah I don't think he goes to usf, he lives aro...</td>\n",
              "    </tr>\n",
              "  </tbody>\n",
              "</table>\n",
              "</div>\n",
              "      <button class=\"colab-df-convert\" onclick=\"convertToInteractive('df-785a2bf0-41c8-4a94-9864-2ea637955f65')\"\n",
              "              title=\"Convert this dataframe to an interactive table.\"\n",
              "              style=\"display:none;\">\n",
              "        \n",
              "  <svg xmlns=\"http://www.w3.org/2000/svg\" height=\"24px\"viewBox=\"0 0 24 24\"\n",
              "       width=\"24px\">\n",
              "    <path d=\"M0 0h24v24H0V0z\" fill=\"none\"/>\n",
              "    <path d=\"M18.56 5.44l.94 2.06.94-2.06 2.06-.94-2.06-.94-.94-2.06-.94 2.06-2.06.94zm-11 1L8.5 8.5l.94-2.06 2.06-.94-2.06-.94L8.5 2.5l-.94 2.06-2.06.94zm10 10l.94 2.06.94-2.06 2.06-.94-2.06-.94-.94-2.06-.94 2.06-2.06.94z\"/><path d=\"M17.41 7.96l-1.37-1.37c-.4-.4-.92-.59-1.43-.59-.52 0-1.04.2-1.43.59L10.3 9.45l-7.72 7.72c-.78.78-.78 2.05 0 2.83L4 21.41c.39.39.9.59 1.41.59.51 0 1.02-.2 1.41-.59l7.78-7.78 2.81-2.81c.8-.78.8-2.07 0-2.86zM5.41 20L4 18.59l7.72-7.72 1.47 1.35L5.41 20z\"/>\n",
              "  </svg>\n",
              "      </button>\n",
              "      \n",
              "  <style>\n",
              "    .colab-df-container {\n",
              "      display:flex;\n",
              "      flex-wrap:wrap;\n",
              "      gap: 12px;\n",
              "    }\n",
              "\n",
              "    .colab-df-convert {\n",
              "      background-color: #E8F0FE;\n",
              "      border: none;\n",
              "      border-radius: 50%;\n",
              "      cursor: pointer;\n",
              "      display: none;\n",
              "      fill: #1967D2;\n",
              "      height: 32px;\n",
              "      padding: 0 0 0 0;\n",
              "      width: 32px;\n",
              "    }\n",
              "\n",
              "    .colab-df-convert:hover {\n",
              "      background-color: #E2EBFA;\n",
              "      box-shadow: 0px 1px 2px rgba(60, 64, 67, 0.3), 0px 1px 3px 1px rgba(60, 64, 67, 0.15);\n",
              "      fill: #174EA6;\n",
              "    }\n",
              "\n",
              "    [theme=dark] .colab-df-convert {\n",
              "      background-color: #3B4455;\n",
              "      fill: #D2E3FC;\n",
              "    }\n",
              "\n",
              "    [theme=dark] .colab-df-convert:hover {\n",
              "      background-color: #434B5C;\n",
              "      box-shadow: 0px 1px 3px 1px rgba(0, 0, 0, 0.15);\n",
              "      filter: drop-shadow(0px 1px 2px rgba(0, 0, 0, 0.3));\n",
              "      fill: #FFFFFF;\n",
              "    }\n",
              "  </style>\n",
              "\n",
              "      <script>\n",
              "        const buttonEl =\n",
              "          document.querySelector('#df-785a2bf0-41c8-4a94-9864-2ea637955f65 button.colab-df-convert');\n",
              "        buttonEl.style.display =\n",
              "          google.colab.kernel.accessAllowed ? 'block' : 'none';\n",
              "\n",
              "        async function convertToInteractive(key) {\n",
              "          const element = document.querySelector('#df-785a2bf0-41c8-4a94-9864-2ea637955f65');\n",
              "          const dataTable =\n",
              "            await google.colab.kernel.invokeFunction('convertToInteractive',\n",
              "                                                     [key], {});\n",
              "          if (!dataTable) return;\n",
              "\n",
              "          const docLinkHtml = 'Like what you see? Visit the ' +\n",
              "            '<a target=\"_blank\" href=https://colab.research.google.com/notebooks/data_table.ipynb>data table notebook</a>'\n",
              "            + ' to learn more about interactive tables.';\n",
              "          element.innerHTML = '';\n",
              "          dataTable['output_type'] = 'display_data';\n",
              "          await google.colab.output.renderOutput(dataTable, element);\n",
              "          const docLink = document.createElement('div');\n",
              "          docLink.innerHTML = docLinkHtml;\n",
              "          element.appendChild(docLink);\n",
              "        }\n",
              "      </script>\n",
              "    </div>\n",
              "  </div>\n",
              "  "
            ]
          },
          "metadata": {},
          "execution_count": 5
        }
      ]
    },
    {
      "cell_type": "code",
      "source": [
        "df1=pd.DataFrame(df)"
      ],
      "metadata": {
        "id": "YJtprQWyC2_i"
      },
      "execution_count": 6,
      "outputs": []
    },
    {
      "cell_type": "code",
      "source": [
        "print(df1.columns)"
      ],
      "metadata": {
        "colab": {
          "base_uri": "https://localhost:8080/"
        },
        "id": "Ziwx2f2ODCfC",
        "outputId": "f9896e60-1db6-4de9-f664-0740edc5c589"
      },
      "execution_count": 7,
      "outputs": [
        {
          "output_type": "stream",
          "name": "stdout",
          "text": [
            "Index(['v1', 'v2'], dtype='object')\n"
          ]
        }
      ]
    },
    {
      "cell_type": "code",
      "source": [
        "df1.columns=df1.columns.str.replace('v1','Spam_or_Ham')\n",
        "df1.columns=df1.columns.str.replace('v2','Email_Content')"
      ],
      "metadata": {
        "id": "oEGqalBEAJDC"
      },
      "execution_count": 8,
      "outputs": []
    },
    {
      "cell_type": "code",
      "source": [
        "df1.head(5)"
      ],
      "metadata": {
        "colab": {
          "base_uri": "https://localhost:8080/",
          "height": 206
        },
        "id": "BtnSwydMAJGb",
        "outputId": "afd48bd2-6d4f-4975-c51b-a981eb2f3e18"
      },
      "execution_count": 9,
      "outputs": [
        {
          "output_type": "execute_result",
          "data": {
            "text/plain": [
              "  Spam_or_Ham                                      Email_Content\n",
              "0         ham  Go until jurong point, crazy.. Available only ...\n",
              "1         ham                      Ok lar... Joking wif u oni...\n",
              "2        spam  Free entry in 2 a wkly comp to win FA Cup fina...\n",
              "3         ham  U dun say so early hor... U c already then say...\n",
              "4         ham  Nah I don't think he goes to usf, he lives aro..."
            ],
            "text/html": [
              "\n",
              "  <div id=\"df-fdb9377d-fdd1-4b1e-9302-c3ffdc6b5e80\">\n",
              "    <div class=\"colab-df-container\">\n",
              "      <div>\n",
              "<style scoped>\n",
              "    .dataframe tbody tr th:only-of-type {\n",
              "        vertical-align: middle;\n",
              "    }\n",
              "\n",
              "    .dataframe tbody tr th {\n",
              "        vertical-align: top;\n",
              "    }\n",
              "\n",
              "    .dataframe thead th {\n",
              "        text-align: right;\n",
              "    }\n",
              "</style>\n",
              "<table border=\"1\" class=\"dataframe\">\n",
              "  <thead>\n",
              "    <tr style=\"text-align: right;\">\n",
              "      <th></th>\n",
              "      <th>Spam_or_Ham</th>\n",
              "      <th>Email_Content</th>\n",
              "    </tr>\n",
              "  </thead>\n",
              "  <tbody>\n",
              "    <tr>\n",
              "      <th>0</th>\n",
              "      <td>ham</td>\n",
              "      <td>Go until jurong point, crazy.. Available only ...</td>\n",
              "    </tr>\n",
              "    <tr>\n",
              "      <th>1</th>\n",
              "      <td>ham</td>\n",
              "      <td>Ok lar... Joking wif u oni...</td>\n",
              "    </tr>\n",
              "    <tr>\n",
              "      <th>2</th>\n",
              "      <td>spam</td>\n",
              "      <td>Free entry in 2 a wkly comp to win FA Cup fina...</td>\n",
              "    </tr>\n",
              "    <tr>\n",
              "      <th>3</th>\n",
              "      <td>ham</td>\n",
              "      <td>U dun say so early hor... U c already then say...</td>\n",
              "    </tr>\n",
              "    <tr>\n",
              "      <th>4</th>\n",
              "      <td>ham</td>\n",
              "      <td>Nah I don't think he goes to usf, he lives aro...</td>\n",
              "    </tr>\n",
              "  </tbody>\n",
              "</table>\n",
              "</div>\n",
              "      <button class=\"colab-df-convert\" onclick=\"convertToInteractive('df-fdb9377d-fdd1-4b1e-9302-c3ffdc6b5e80')\"\n",
              "              title=\"Convert this dataframe to an interactive table.\"\n",
              "              style=\"display:none;\">\n",
              "        \n",
              "  <svg xmlns=\"http://www.w3.org/2000/svg\" height=\"24px\"viewBox=\"0 0 24 24\"\n",
              "       width=\"24px\">\n",
              "    <path d=\"M0 0h24v24H0V0z\" fill=\"none\"/>\n",
              "    <path d=\"M18.56 5.44l.94 2.06.94-2.06 2.06-.94-2.06-.94-.94-2.06-.94 2.06-2.06.94zm-11 1L8.5 8.5l.94-2.06 2.06-.94-2.06-.94L8.5 2.5l-.94 2.06-2.06.94zm10 10l.94 2.06.94-2.06 2.06-.94-2.06-.94-.94-2.06-.94 2.06-2.06.94z\"/><path d=\"M17.41 7.96l-1.37-1.37c-.4-.4-.92-.59-1.43-.59-.52 0-1.04.2-1.43.59L10.3 9.45l-7.72 7.72c-.78.78-.78 2.05 0 2.83L4 21.41c.39.39.9.59 1.41.59.51 0 1.02-.2 1.41-.59l7.78-7.78 2.81-2.81c.8-.78.8-2.07 0-2.86zM5.41 20L4 18.59l7.72-7.72 1.47 1.35L5.41 20z\"/>\n",
              "  </svg>\n",
              "      </button>\n",
              "      \n",
              "  <style>\n",
              "    .colab-df-container {\n",
              "      display:flex;\n",
              "      flex-wrap:wrap;\n",
              "      gap: 12px;\n",
              "    }\n",
              "\n",
              "    .colab-df-convert {\n",
              "      background-color: #E8F0FE;\n",
              "      border: none;\n",
              "      border-radius: 50%;\n",
              "      cursor: pointer;\n",
              "      display: none;\n",
              "      fill: #1967D2;\n",
              "      height: 32px;\n",
              "      padding: 0 0 0 0;\n",
              "      width: 32px;\n",
              "    }\n",
              "\n",
              "    .colab-df-convert:hover {\n",
              "      background-color: #E2EBFA;\n",
              "      box-shadow: 0px 1px 2px rgba(60, 64, 67, 0.3), 0px 1px 3px 1px rgba(60, 64, 67, 0.15);\n",
              "      fill: #174EA6;\n",
              "    }\n",
              "\n",
              "    [theme=dark] .colab-df-convert {\n",
              "      background-color: #3B4455;\n",
              "      fill: #D2E3FC;\n",
              "    }\n",
              "\n",
              "    [theme=dark] .colab-df-convert:hover {\n",
              "      background-color: #434B5C;\n",
              "      box-shadow: 0px 1px 3px 1px rgba(0, 0, 0, 0.15);\n",
              "      filter: drop-shadow(0px 1px 2px rgba(0, 0, 0, 0.3));\n",
              "      fill: #FFFFFF;\n",
              "    }\n",
              "  </style>\n",
              "\n",
              "      <script>\n",
              "        const buttonEl =\n",
              "          document.querySelector('#df-fdb9377d-fdd1-4b1e-9302-c3ffdc6b5e80 button.colab-df-convert');\n",
              "        buttonEl.style.display =\n",
              "          google.colab.kernel.accessAllowed ? 'block' : 'none';\n",
              "\n",
              "        async function convertToInteractive(key) {\n",
              "          const element = document.querySelector('#df-fdb9377d-fdd1-4b1e-9302-c3ffdc6b5e80');\n",
              "          const dataTable =\n",
              "            await google.colab.kernel.invokeFunction('convertToInteractive',\n",
              "                                                     [key], {});\n",
              "          if (!dataTable) return;\n",
              "\n",
              "          const docLinkHtml = 'Like what you see? Visit the ' +\n",
              "            '<a target=\"_blank\" href=https://colab.research.google.com/notebooks/data_table.ipynb>data table notebook</a>'\n",
              "            + ' to learn more about interactive tables.';\n",
              "          element.innerHTML = '';\n",
              "          dataTable['output_type'] = 'display_data';\n",
              "          await google.colab.output.renderOutput(dataTable, element);\n",
              "          const docLink = document.createElement('div');\n",
              "          docLink.innerHTML = docLinkHtml;\n",
              "          element.appendChild(docLink);\n",
              "        }\n",
              "      </script>\n",
              "    </div>\n",
              "  </div>\n",
              "  "
            ]
          },
          "metadata": {},
          "execution_count": 9
        }
      ]
    },
    {
      "cell_type": "code",
      "source": [
        "df1.describe()"
      ],
      "metadata": {
        "colab": {
          "base_uri": "https://localhost:8080/",
          "height": 175
        },
        "id": "iosI4dzFLvI4",
        "outputId": "0b50fd9a-dc22-4785-8b1c-a3607915a081"
      },
      "execution_count": 10,
      "outputs": [
        {
          "output_type": "execute_result",
          "data": {
            "text/plain": [
              "       Spam_or_Ham           Email_Content\n",
              "count         5572                    5572\n",
              "unique           2                    5169\n",
              "top            ham  Sorry, I'll call later\n",
              "freq          4825                      30"
            ],
            "text/html": [
              "\n",
              "  <div id=\"df-efe09bdf-2a66-42eb-acf3-7280cbfc71bd\">\n",
              "    <div class=\"colab-df-container\">\n",
              "      <div>\n",
              "<style scoped>\n",
              "    .dataframe tbody tr th:only-of-type {\n",
              "        vertical-align: middle;\n",
              "    }\n",
              "\n",
              "    .dataframe tbody tr th {\n",
              "        vertical-align: top;\n",
              "    }\n",
              "\n",
              "    .dataframe thead th {\n",
              "        text-align: right;\n",
              "    }\n",
              "</style>\n",
              "<table border=\"1\" class=\"dataframe\">\n",
              "  <thead>\n",
              "    <tr style=\"text-align: right;\">\n",
              "      <th></th>\n",
              "      <th>Spam_or_Ham</th>\n",
              "      <th>Email_Content</th>\n",
              "    </tr>\n",
              "  </thead>\n",
              "  <tbody>\n",
              "    <tr>\n",
              "      <th>count</th>\n",
              "      <td>5572</td>\n",
              "      <td>5572</td>\n",
              "    </tr>\n",
              "    <tr>\n",
              "      <th>unique</th>\n",
              "      <td>2</td>\n",
              "      <td>5169</td>\n",
              "    </tr>\n",
              "    <tr>\n",
              "      <th>top</th>\n",
              "      <td>ham</td>\n",
              "      <td>Sorry, I'll call later</td>\n",
              "    </tr>\n",
              "    <tr>\n",
              "      <th>freq</th>\n",
              "      <td>4825</td>\n",
              "      <td>30</td>\n",
              "    </tr>\n",
              "  </tbody>\n",
              "</table>\n",
              "</div>\n",
              "      <button class=\"colab-df-convert\" onclick=\"convertToInteractive('df-efe09bdf-2a66-42eb-acf3-7280cbfc71bd')\"\n",
              "              title=\"Convert this dataframe to an interactive table.\"\n",
              "              style=\"display:none;\">\n",
              "        \n",
              "  <svg xmlns=\"http://www.w3.org/2000/svg\" height=\"24px\"viewBox=\"0 0 24 24\"\n",
              "       width=\"24px\">\n",
              "    <path d=\"M0 0h24v24H0V0z\" fill=\"none\"/>\n",
              "    <path d=\"M18.56 5.44l.94 2.06.94-2.06 2.06-.94-2.06-.94-.94-2.06-.94 2.06-2.06.94zm-11 1L8.5 8.5l.94-2.06 2.06-.94-2.06-.94L8.5 2.5l-.94 2.06-2.06.94zm10 10l.94 2.06.94-2.06 2.06-.94-2.06-.94-.94-2.06-.94 2.06-2.06.94z\"/><path d=\"M17.41 7.96l-1.37-1.37c-.4-.4-.92-.59-1.43-.59-.52 0-1.04.2-1.43.59L10.3 9.45l-7.72 7.72c-.78.78-.78 2.05 0 2.83L4 21.41c.39.39.9.59 1.41.59.51 0 1.02-.2 1.41-.59l7.78-7.78 2.81-2.81c.8-.78.8-2.07 0-2.86zM5.41 20L4 18.59l7.72-7.72 1.47 1.35L5.41 20z\"/>\n",
              "  </svg>\n",
              "      </button>\n",
              "      \n",
              "  <style>\n",
              "    .colab-df-container {\n",
              "      display:flex;\n",
              "      flex-wrap:wrap;\n",
              "      gap: 12px;\n",
              "    }\n",
              "\n",
              "    .colab-df-convert {\n",
              "      background-color: #E8F0FE;\n",
              "      border: none;\n",
              "      border-radius: 50%;\n",
              "      cursor: pointer;\n",
              "      display: none;\n",
              "      fill: #1967D2;\n",
              "      height: 32px;\n",
              "      padding: 0 0 0 0;\n",
              "      width: 32px;\n",
              "    }\n",
              "\n",
              "    .colab-df-convert:hover {\n",
              "      background-color: #E2EBFA;\n",
              "      box-shadow: 0px 1px 2px rgba(60, 64, 67, 0.3), 0px 1px 3px 1px rgba(60, 64, 67, 0.15);\n",
              "      fill: #174EA6;\n",
              "    }\n",
              "\n",
              "    [theme=dark] .colab-df-convert {\n",
              "      background-color: #3B4455;\n",
              "      fill: #D2E3FC;\n",
              "    }\n",
              "\n",
              "    [theme=dark] .colab-df-convert:hover {\n",
              "      background-color: #434B5C;\n",
              "      box-shadow: 0px 1px 3px 1px rgba(0, 0, 0, 0.15);\n",
              "      filter: drop-shadow(0px 1px 2px rgba(0, 0, 0, 0.3));\n",
              "      fill: #FFFFFF;\n",
              "    }\n",
              "  </style>\n",
              "\n",
              "      <script>\n",
              "        const buttonEl =\n",
              "          document.querySelector('#df-efe09bdf-2a66-42eb-acf3-7280cbfc71bd button.colab-df-convert');\n",
              "        buttonEl.style.display =\n",
              "          google.colab.kernel.accessAllowed ? 'block' : 'none';\n",
              "\n",
              "        async function convertToInteractive(key) {\n",
              "          const element = document.querySelector('#df-efe09bdf-2a66-42eb-acf3-7280cbfc71bd');\n",
              "          const dataTable =\n",
              "            await google.colab.kernel.invokeFunction('convertToInteractive',\n",
              "                                                     [key], {});\n",
              "          if (!dataTable) return;\n",
              "\n",
              "          const docLinkHtml = 'Like what you see? Visit the ' +\n",
              "            '<a target=\"_blank\" href=https://colab.research.google.com/notebooks/data_table.ipynb>data table notebook</a>'\n",
              "            + ' to learn more about interactive tables.';\n",
              "          element.innerHTML = '';\n",
              "          dataTable['output_type'] = 'display_data';\n",
              "          await google.colab.output.renderOutput(dataTable, element);\n",
              "          const docLink = document.createElement('div');\n",
              "          docLink.innerHTML = docLinkHtml;\n",
              "          element.appendChild(docLink);\n",
              "        }\n",
              "      </script>\n",
              "    </div>\n",
              "  </div>\n",
              "  "
            ]
          },
          "metadata": {},
          "execution_count": 10
        }
      ]
    },
    {
      "cell_type": "code",
      "source": [
        "df1.isna().sum()"
      ],
      "metadata": {
        "colab": {
          "base_uri": "https://localhost:8080/"
        },
        "id": "lly8rDW-L5vO",
        "outputId": "36b3429e-168c-4ba1-d167-d487d242c816"
      },
      "execution_count": 12,
      "outputs": [
        {
          "output_type": "execute_result",
          "data": {
            "text/plain": [
              "Spam_or_Ham      0\n",
              "Email_Content    0\n",
              "dtype: int64"
            ]
          },
          "metadata": {},
          "execution_count": 12
        }
      ]
    },
    {
      "cell_type": "code",
      "source": [
        "df1.Spam_or_Ham[0]"
      ],
      "metadata": {
        "colab": {
          "base_uri": "https://localhost:8080/",
          "height": 36
        },
        "id": "yb0rCg_MaBpF",
        "outputId": "62c24dc5-88f3-48a3-b6db-2889093b6282"
      },
      "execution_count": 13,
      "outputs": [
        {
          "output_type": "execute_result",
          "data": {
            "text/plain": [
              "'ham'"
            ],
            "application/vnd.google.colaboratory.intrinsic+json": {
              "type": "string"
            }
          },
          "metadata": {},
          "execution_count": 13
        }
      ]
    },
    {
      "cell_type": "code",
      "source": [
        "df1.Spam_or_Ham.value_counts()"
      ],
      "metadata": {
        "colab": {
          "base_uri": "https://localhost:8080/"
        },
        "id": "plLyeBk4aMFy",
        "outputId": "8a7957d7-183a-473b-ce6b-0020f8750c14"
      },
      "execution_count": 14,
      "outputs": [
        {
          "output_type": "execute_result",
          "data": {
            "text/plain": [
              "ham     4825\n",
              "spam     747\n",
              "Name: Spam_or_Ham, dtype: int64"
            ]
          },
          "metadata": {},
          "execution_count": 14
        }
      ]
    },
    {
      "cell_type": "code",
      "source": [
        "df1.Email_Content[0]"
      ],
      "metadata": {
        "colab": {
          "base_uri": "https://localhost:8080/",
          "height": 36
        },
        "id": "CX_DnyLqBOYI",
        "outputId": "d5f8f035-d715-4aff-9b83-f5140fb157e6"
      },
      "execution_count": 15,
      "outputs": [
        {
          "output_type": "execute_result",
          "data": {
            "text/plain": [
              "'Go until jurong point, crazy.. Available only in bugis n great world la e buffet... Cine there got amore wat...'"
            ],
            "application/vnd.google.colaboratory.intrinsic+json": {
              "type": "string"
            }
          },
          "metadata": {},
          "execution_count": 15
        }
      ]
    },
    {
      "cell_type": "code",
      "source": [
        "df1.Email_Content.value_counts()"
      ],
      "metadata": {
        "colab": {
          "base_uri": "https://localhost:8080/"
        },
        "id": "ni7qEP99BOb1",
        "outputId": "8446b4cf-5299-4830-d77c-a5d72418a297"
      },
      "execution_count": 16,
      "outputs": [
        {
          "output_type": "execute_result",
          "data": {
            "text/plain": [
              "Sorry, I'll call later                                                                                                                                                 30\n",
              "I cant pick the phone right now. Pls send a message                                                                                                                    12\n",
              "Ok...                                                                                                                                                                  10\n",
              "7 wonders in My WORLD 7th You 6th Ur style 5th Ur smile 4th Ur Personality 3rd Ur Nature 2nd Ur SMS and 1st \\Ur Lovely Friendship\\\"... good morning dear\"               4\n",
              "Say this slowly.? GOD,I LOVE YOU &amp; I NEED YOU,CLEAN MY HEART WITH YOUR BLOOD.Send this to Ten special people &amp; u c miracle tomorrow, do it,pls,pls do it...     4\n",
              "                                                                                                                                                                       ..\n",
              "I gotta collect da car at 6 lei.                                                                                                                                        1\n",
              "No. On the way home. So if not for the long dry spell the season would have been over                                                                                   1\n",
              "Urgent! Please call 09061743811 from landline. Your ABTA complimentary 4* Tenerife Holiday or å£5000 cash await collection SAE T&Cs Box 326 CW25WX 150ppm               1\n",
              "Dear 0776xxxxxxx U've been invited to XCHAT. This is our final attempt to contact u! Txt CHAT to 86688 150p/MsgrcvdHG/Suite342/2Lands/Row/W1J6HL LDN 18yrs              1\n",
              "Rofl. Its true to its name                                                                                                                                              1\n",
              "Name: Email_Content, Length: 5169, dtype: int64"
            ]
          },
          "metadata": {},
          "execution_count": 16
        }
      ]
    },
    {
      "cell_type": "code",
      "source": [
        "from gensim.utils import simple_preprocess"
      ],
      "metadata": {
        "id": "yXjSwDr3BOd3"
      },
      "execution_count": 17,
      "outputs": []
    },
    {
      "cell_type": "code",
      "source": [
        "preprocessed_data = df1.Email_Content.apply(lambda x:simple_preprocess(x))"
      ],
      "metadata": {
        "id": "LACaazRcBOhV"
      },
      "execution_count": 18,
      "outputs": []
    },
    {
      "cell_type": "code",
      "source": [
        "preprocessed_data[0]"
      ],
      "metadata": {
        "colab": {
          "base_uri": "https://localhost:8080/"
        },
        "id": "CVDOp3LlHr8O",
        "outputId": "d1afbf47-2152-4163-c2bf-aa9b93518e3b"
      },
      "execution_count": 19,
      "outputs": [
        {
          "output_type": "execute_result",
          "data": {
            "text/plain": [
              "['go',\n",
              " 'until',\n",
              " 'jurong',\n",
              " 'point',\n",
              " 'crazy',\n",
              " 'available',\n",
              " 'only',\n",
              " 'in',\n",
              " 'bugis',\n",
              " 'great',\n",
              " 'world',\n",
              " 'la',\n",
              " 'buffet',\n",
              " 'cine',\n",
              " 'there',\n",
              " 'got',\n",
              " 'amore',\n",
              " 'wat']"
            ]
          },
          "metadata": {},
          "execution_count": 19
        }
      ]
    },
    {
      "cell_type": "code",
      "source": [
        "from gensim.models import Word2Vec\n",
        "from nltk import word_tokenize"
      ],
      "metadata": {
        "id": "aGB8t7QkIG3B"
      },
      "execution_count": 20,
      "outputs": []
    },
    {
      "cell_type": "code",
      "source": [
        "#creating CBOW model using the given data\n",
        "cbow_w2v_model=Word2Vec(preprocessed_data,size=300,window=9,min_count=2,sg=0)"
      ],
      "metadata": {
        "id": "ksHYjJ58IG5K"
      },
      "execution_count": 21,
      "outputs": []
    },
    {
      "cell_type": "code",
      "source": [
        "#creating skipgram model using the given data\n",
        "skgram_w2v_model=Word2Vec(preprocessed_data,size=300,window=9,min_count=2,sg=0)"
      ],
      "metadata": {
        "id": "89FPxoXeIG7I"
      },
      "execution_count": 22,
      "outputs": []
    },
    {
      "cell_type": "code",
      "source": [
        "print('cbow mobel vocabulary size:',len(cbow_w2v_model.wv.vocab))\n",
        "print('skgram mobel vocabulary size:',len(skgram_w2v_model.wv.vocab))"
      ],
      "metadata": {
        "colab": {
          "base_uri": "https://localhost:8080/"
        },
        "id": "Ou2SjRnlIG9K",
        "outputId": "3e841c4a-8619-444f-bcef-b501bc5537ef"
      },
      "execution_count": 23,
      "outputs": [
        {
          "output_type": "stream",
          "name": "stdout",
          "text": [
            "cbow mobel vocabulary size: 3892\n",
            "skgram mobel vocabulary size: 3892\n"
          ]
        }
      ]
    },
    {
      "cell_type": "code",
      "source": [
        "list(cbow_w2v_model.wv.vocab.items())[:20]"
      ],
      "metadata": {
        "colab": {
          "base_uri": "https://localhost:8080/"
        },
        "id": "jgGerKnYIG_d",
        "outputId": "22135e20-25a0-480c-bfa0-1058f583b3bb"
      },
      "execution_count": 24,
      "outputs": [
        {
          "output_type": "execute_result",
          "data": {
            "text/plain": [
              "[('go', <gensim.models.keyedvectors.Vocab at 0x7f1b56def590>),\n",
              " ('until', <gensim.models.keyedvectors.Vocab at 0x7f1b56def5d0>),\n",
              " ('point', <gensim.models.keyedvectors.Vocab at 0x7f1b56def610>),\n",
              " ('crazy', <gensim.models.keyedvectors.Vocab at 0x7f1b56def650>),\n",
              " ('available', <gensim.models.keyedvectors.Vocab at 0x7f1b56def6d0>),\n",
              " ('only', <gensim.models.keyedvectors.Vocab at 0x7f1b56def750>),\n",
              " ('in', <gensim.models.keyedvectors.Vocab at 0x7f1b56def790>),\n",
              " ('bugis', <gensim.models.keyedvectors.Vocab at 0x7f1b56def7d0>),\n",
              " ('great', <gensim.models.keyedvectors.Vocab at 0x7f1b56def690>),\n",
              " ('world', <gensim.models.keyedvectors.Vocab at 0x7f1b56def710>),\n",
              " ('la', <gensim.models.keyedvectors.Vocab at 0x7f1b56def810>),\n",
              " ('buffet', <gensim.models.keyedvectors.Vocab at 0x7f1b56def850>),\n",
              " ('cine', <gensim.models.keyedvectors.Vocab at 0x7f1b56def890>),\n",
              " ('there', <gensim.models.keyedvectors.Vocab at 0x7f1b56def8d0>),\n",
              " ('got', <gensim.models.keyedvectors.Vocab at 0x7f1b56def910>),\n",
              " ('wat', <gensim.models.keyedvectors.Vocab at 0x7f1b56def950>),\n",
              " ('ok', <gensim.models.keyedvectors.Vocab at 0x7f1b56def990>),\n",
              " ('lar', <gensim.models.keyedvectors.Vocab at 0x7f1b56def9d0>),\n",
              " ('joking', <gensim.models.keyedvectors.Vocab at 0x7f1b56defa10>),\n",
              " ('wif', <gensim.models.keyedvectors.Vocab at 0x7f1b56defa50>)]"
            ]
          },
          "metadata": {},
          "execution_count": 24
        }
      ]
    },
    {
      "cell_type": "code",
      "source": [
        "cbow_w2v_model.wv.get_vector('warning')"
      ],
      "metadata": {
        "colab": {
          "base_uri": "https://localhost:8080/"
        },
        "id": "eNMRfc4UIHD2",
        "outputId": "d772150c-6e63-4b5d-fde1-fa64f782bcdd"
      },
      "execution_count": 25,
      "outputs": [
        {
          "output_type": "execute_result",
          "data": {
            "text/plain": [
              "array([ 5.07881911e-03, -4.07899637e-03, -8.65479372e-03,  1.40704755e-02,\n",
              "        5.96940052e-03, -5.27991867e-03,  9.72365867e-03, -2.28675199e-03,\n",
              "       -9.75131430e-03, -9.67308224e-05,  3.68707697e-03,  6.84811035e-03,\n",
              "       -5.89092635e-03, -5.43424487e-03, -1.18027171e-02, -1.00307595e-02,\n",
              "       -5.75229479e-03,  6.19048532e-03, -6.74755196e-04, -2.31619412e-03,\n",
              "       -9.87411244e-04, -4.96617705e-03, -9.36332275e-04,  6.35030353e-03,\n",
              "       -9.53284744e-03,  8.35890044e-03, -5.25319623e-03,  7.72900926e-03,\n",
              "       -2.38593086e-03,  6.13863254e-03, -3.52918723e-04,  2.95437849e-03,\n",
              "       -1.10920733e-02, -2.78213520e-05,  1.84757379e-03,  1.07557315e-03,\n",
              "       -1.74737803e-03,  1.35328844e-02, -8.70634336e-03,  5.11857308e-03,\n",
              "       -1.90251565e-03, -9.97914188e-03,  1.14482529e-02,  1.63186443e-04,\n",
              "       -3.51045374e-03,  6.93915572e-05,  2.24053953e-03, -5.60374185e-03,\n",
              "        6.28269801e-04,  7.03044643e-05,  1.08044818e-02,  7.28697004e-03,\n",
              "       -2.11903406e-03,  2.36522779e-03,  1.34460977e-03, -2.11442471e-03,\n",
              "        7.64299883e-04, -8.77501350e-03, -4.79922537e-03, -9.68386699e-03,\n",
              "        1.34950886e-02, -1.89674343e-03, -8.30769446e-03,  4.85547120e-03,\n",
              "       -6.26766449e-03,  1.07563636e-03, -1.17603806e-03, -6.75494689e-03,\n",
              "       -6.00622268e-03, -3.21082282e-03, -8.50221049e-03,  1.19536538e-02,\n",
              "       -7.87089113e-03,  5.08448284e-04,  5.46190469e-03, -3.84733686e-03,\n",
              "       -1.55068876e-03, -4.59947763e-03,  6.19450584e-03,  5.83994621e-03,\n",
              "       -6.37635356e-03, -7.10204942e-03, -2.28435360e-03, -5.44128707e-03,\n",
              "        2.64882081e-04, -2.80905468e-03,  1.06143812e-02,  9.16195195e-03,\n",
              "       -2.24504876e-03, -4.53758752e-04,  1.27092335e-06, -2.94026919e-03,\n",
              "       -1.87838823e-03,  1.34736672e-02,  5.49744908e-03,  9.15184524e-03,\n",
              "       -4.61752061e-03, -1.91066950e-03,  9.08153690e-03, -6.35052286e-03,\n",
              "       -2.80826772e-03, -8.57645366e-03, -1.50328819e-02, -3.62317041e-05,\n",
              "       -4.02107649e-03,  1.07104983e-02, -1.61422254e-03, -3.33174039e-03,\n",
              "       -9.69331886e-04,  6.27940288e-03,  1.33210067e-02, -1.42651307e-03,\n",
              "        5.02991164e-03,  7.22689787e-03,  1.50923996e-04,  4.11693985e-03,\n",
              "       -8.72462150e-03, -8.64552334e-03,  5.42987883e-03,  4.98660980e-03,\n",
              "        8.38637876e-04, -1.20218855e-03, -4.67769895e-03,  3.16254771e-03,\n",
              "        3.02503631e-03,  3.60099226e-03, -2.14061677e-03, -6.83256239e-03,\n",
              "        1.22644994e-02, -6.50335662e-03, -1.35329133e-02,  3.29635502e-03,\n",
              "       -5.32333273e-03,  1.11978594e-02,  2.69976677e-03,  1.18963688e-03,\n",
              "       -8.07422493e-03,  3.32150725e-03,  4.57762461e-03, -1.75838964e-03,\n",
              "        5.44647174e-03, -2.76224338e-03, -3.92019236e-03, -3.00810556e-03,\n",
              "        3.30471405e-04,  7.03008709e-07,  1.03674000e-02,  6.85857143e-03,\n",
              "       -1.50431832e-03,  5.07226214e-03,  9.95298475e-03, -5.04161185e-03,\n",
              "       -3.49050947e-03, -4.38501034e-03, -3.67113366e-03, -3.50674684e-03,\n",
              "       -5.06003341e-03,  1.80686936e-02, -9.61384270e-03,  8.29741266e-03,\n",
              "        6.67561824e-03, -1.11496467e-02, -2.23336904e-03, -8.69800802e-03,\n",
              "        7.10268645e-03, -9.14334785e-03,  1.94521341e-02, -7.28192087e-03,\n",
              "        5.57025662e-04, -5.19531360e-03, -2.26076925e-03, -2.04590312e-03,\n",
              "        5.38320607e-03, -6.14821399e-03, -5.57080377e-03,  4.42892639e-03,\n",
              "        6.19627908e-03, -7.86064938e-03, -1.20802748e-03, -1.23998080e-03,\n",
              "        2.48442078e-03, -1.67729100e-03,  8.09146557e-03, -5.57955401e-03,\n",
              "        5.23813767e-03, -3.31204268e-03,  1.20401066e-02, -1.01500023e-02,\n",
              "        8.02343152e-03, -2.85890256e-03,  1.06190275e-02, -5.91368927e-03,\n",
              "       -7.30842305e-03,  3.49659869e-03, -1.19448500e-02, -2.79713073e-03,\n",
              "        5.76228788e-03,  4.19046031e-03,  7.79995415e-03, -1.80183968e-03,\n",
              "       -9.42452904e-03,  1.72023219e-03, -6.52896892e-03,  3.19162337e-03,\n",
              "        7.99203478e-03,  9.86509770e-03, -8.21268186e-03,  1.72514434e-03,\n",
              "        6.63014129e-03, -3.81357502e-03, -9.21858568e-03, -7.44624017e-03,\n",
              "       -7.95151666e-03,  1.88420422e-03, -1.33210532e-02, -5.35011699e-04,\n",
              "        1.29247282e-03, -1.65918714e-03, -3.65802180e-03, -8.00919998e-03,\n",
              "        3.35137174e-03,  1.01476144e-02, -8.54050834e-03, -2.61992570e-02,\n",
              "       -3.40315746e-03, -2.74711242e-03, -7.77188316e-03,  1.61167397e-03,\n",
              "       -8.39842483e-03,  5.80183463e-03, -1.24727574e-03,  4.33071097e-03,\n",
              "       -1.10998461e-02, -1.69715309e-03, -3.96998413e-03, -3.47477267e-03,\n",
              "       -1.63191706e-02, -1.58615839e-02, -9.12645046e-05, -2.39795400e-03,\n",
              "       -1.42529346e-02,  1.44434199e-02, -6.75306935e-03, -3.24104703e-03,\n",
              "       -5.07491548e-03,  3.69402650e-03, -6.80768769e-03, -1.69348216e-03,\n",
              "       -5.95980184e-03,  2.47429917e-03,  3.92421335e-03, -9.90407821e-03,\n",
              "        1.04928073e-02, -4.05729376e-03,  9.16604139e-03,  1.96817127e-04,\n",
              "       -6.87855110e-03, -2.52104457e-03, -5.51629066e-03, -1.37305139e-02,\n",
              "        5.07028680e-03,  3.41230305e-03, -7.09482585e-04, -8.14017188e-03,\n",
              "       -5.58942838e-06, -2.45830603e-03,  1.15194656e-02, -2.01963610e-03,\n",
              "       -8.82809691e-04, -6.83246600e-03, -1.06816646e-02, -3.49934772e-03,\n",
              "        7.27299892e-04,  4.20948397e-03,  1.37741361e-02,  1.45656085e-02,\n",
              "        1.23664620e-03,  1.57177690e-02,  9.92264395e-05,  4.59684338e-03,\n",
              "       -1.04792202e-02, -9.19374824e-03, -6.34400826e-03,  3.35622998e-03,\n",
              "        3.89538007e-04, -4.70466632e-03,  1.08593504e-03, -2.25867028e-03,\n",
              "        8.48987082e-04, -6.17893122e-04, -2.93495483e-04, -2.86050513e-03,\n",
              "       -3.48069100e-03,  1.11258654e-02, -9.98566393e-04, -2.54577980e-03,\n",
              "       -6.80215051e-03, -9.17200814e-04,  7.54674431e-03,  1.43919941e-02],\n",
              "      dtype=float32)"
            ]
          },
          "metadata": {},
          "execution_count": 25
        }
      ]
    },
    {
      "cell_type": "code",
      "source": [
        "cbow_w2v_model.wv.get_vector('warning').shape"
      ],
      "metadata": {
        "colab": {
          "base_uri": "https://localhost:8080/"
        },
        "id": "CX-7ACZwIHHW",
        "outputId": "f249d4d3-8591-4778-b3ed-8b4f025700da"
      },
      "execution_count": 26,
      "outputs": [
        {
          "output_type": "execute_result",
          "data": {
            "text/plain": [
              "(300,)"
            ]
          },
          "metadata": {},
          "execution_count": 26
        }
      ]
    },
    {
      "cell_type": "code",
      "source": [
        "cbow_w2v_model.wv.most_similar('free')"
      ],
      "metadata": {
        "colab": {
          "base_uri": "https://localhost:8080/"
        },
        "id": "EV0Ijl3TIHQ2",
        "outputId": "413b398c-b8c1-4b0b-935d-5d8606e21676"
      },
      "execution_count": 27,
      "outputs": [
        {
          "output_type": "execute_result",
          "data": {
            "text/plain": [
              "[('nokia', 0.999913215637207),\n",
              " ('mobile', 0.9999008178710938),\n",
              " ('txt', 0.9998394250869751),\n",
              " ('tone', 0.999815821647644),\n",
              " ('call', 0.9998157620429993),\n",
              " ('update', 0.9997853636741638),\n",
              " ('claim', 0.999770998954773),\n",
              " ('stop', 0.9997614622116089),\n",
              " ('cash', 0.9997563362121582),\n",
              " ('reply', 0.999707818031311)]"
            ]
          },
          "metadata": {},
          "execution_count": 27
        }
      ]
    },
    {
      "cell_type": "code",
      "source": [
        "skgram_w2v_model.wv.most_similar('reply')"
      ],
      "metadata": {
        "colab": {
          "base_uri": "https://localhost:8080/"
        },
        "id": "h4xx25BgOwiJ",
        "outputId": "364d7261-6594-47a0-d5b7-68c6590e4989"
      },
      "execution_count": 28,
      "outputs": [
        {
          "output_type": "execute_result",
          "data": {
            "text/plain": [
              "[('www', 0.9999611973762512),\n",
              " ('stop', 0.999954879283905),\n",
              " ('text', 0.9999525547027588),\n",
              " ('or', 0.9999484419822693),\n",
              " ('week', 0.9999424815177917),\n",
              " ('latest', 0.999941349029541),\n",
              " ('entry', 0.9999356269836426),\n",
              " ('co', 0.9999349117279053),\n",
              " ('cs', 0.9999347925186157),\n",
              " ('sms', 0.9999310970306396)]"
            ]
          },
          "metadata": {},
          "execution_count": 28
        }
      ]
    },
    {
      "cell_type": "code",
      "source": [
        "import matplotlib.pyplot as pyplot\n",
        "from sklearn.decomposition import PCA"
      ],
      "metadata": {
        "id": "214aMGXRPfb9"
      },
      "execution_count": 29,
      "outputs": []
    },
    {
      "cell_type": "code",
      "source": [
        "#plotting w2v emmbeding of given sords list using cbow model\n",
        "def plot_cbow_w2v(word_list):\n",
        "  X=cbow_w2v_model[word_list]\n",
        "\n",
        "  #reducing dimension to 2\n",
        "  pca =PCA(n_components=2)\n",
        "  result=pca.fit_transform(X)\n",
        "\n",
        "  #creating a scatter plot of the projection\n",
        "  pyplot.scatter(result[:, 0],result[:, 1])\n",
        "  for i , word in enumerate(word_list):\n",
        "   pyplot.annotate(word, xy={result[i,0],result[i,1]})\n",
        "     \n",
        "  #show\n",
        "  pyplot.figure(figsize=(6,15))\n",
        "  pyplot.show()"
      ],
      "metadata": {
        "id": "wScg8QBeP-h9"
      },
      "execution_count": 30,
      "outputs": []
    },
    {
      "cell_type": "code",
      "source": [
        "#plotting w2v emmbeding of given sords list using skipgram model\n",
        "def plot_skgram_w2v(word_list):\n",
        "  X=skgram_w2v_model[word_list]\n",
        "\n",
        "  #reducing dimension to 2\n",
        "  pca =PCA(n_components=2)\n",
        "  result=pca.fit_transform(X)\n",
        "\n",
        "  #creating a scatter plot of the projection\n",
        "  pyplot.scatter(result[:, 0],result[:, 1])\n",
        "  for i , word in enumerate(word_list):\n",
        "    pyplot.annotate(word, xy={result[i,0],result[i,1]})\n",
        "\n",
        "  #show\n",
        "  pyplot.figure(figsize=(6,15))\n",
        "  pyplot.show()"
      ],
      "metadata": {
        "id": "-N2oUcljTE08"
      },
      "execution_count": 31,
      "outputs": []
    },
    {
      "cell_type": "code",
      "source": [
        "#generate similar word list using cbow and skgram models\n",
        "words_text_cb=cbow_w2v_model.wv.most_similar('text')\n",
        "words_call_cb=cbow_w2v_model.wv.most_similar('call')\n",
        "words_prize_cb=cbow_w2v_model.wv.most_similar('prize')"
      ],
      "metadata": {
        "id": "FBj_PexsVD39"
      },
      "execution_count": 32,
      "outputs": []
    },
    {
      "cell_type": "code",
      "source": [
        "#combine these words list\n",
        "words_cb=words_text_cb+words_call_cb+words_prize_cb\n",
        "words_cb=list(map(lambda x: x[0],words_cb))"
      ],
      "metadata": {
        "id": "ppXO8kxpbodR"
      },
      "execution_count": 33,
      "outputs": []
    },
    {
      "cell_type": "code",
      "source": [
        "plot_cbow_w2v(words_cb)"
      ],
      "metadata": {
        "colab": {
          "base_uri": "https://localhost:8080/",
          "height": 1000
        },
        "id": "KelGAYMIb2Gw",
        "outputId": "e1b9c6fe-b9fb-4b6c-bb03-b7b105f79ad4"
      },
      "execution_count": 34,
      "outputs": [
        {
          "output_type": "stream",
          "name": "stderr",
          "text": [
            "/usr/local/lib/python3.7/dist-packages/ipykernel_launcher.py:3: DeprecationWarning: Call to deprecated `__getitem__` (Method will be removed in 4.0.0, use self.wv.__getitem__() instead).\n",
            "  This is separate from the ipykernel package so we can avoid doing imports until\n"
          ]
        },
        {
          "output_type": "display_data",
          "data": {
            "text/plain": [
              "<Figure size 432x288 with 1 Axes>"
            ],
            "image/png": "[encoded data removed]"
          },
          "metadata": {
            "needs_background": "light"
          }
        },
        {
          "output_type": "display_data",
          "data": {
            "text/plain": [
              "<Figure size 432x1080 with 0 Axes>"
            ]
          },
          "metadata": {}
        }
      ]
    },
    {
      "cell_type": "code",
      "source": [
        "plot_skgram_w2v(words_cb)"
      ],
      "metadata": {
        "colab": {
          "base_uri": "https://localhost:8080/",
          "height": 1000
        },
        "id": "orzdf3-9cXfh",
        "outputId": "243ee540-f15f-4456-9a0d-581c016ebd96"
      },
      "execution_count": 35,
      "outputs": [
        {
          "output_type": "stream",
          "name": "stderr",
          "text": [
            "/usr/local/lib/python3.7/dist-packages/ipykernel_launcher.py:3: DeprecationWarning: Call to deprecated `__getitem__` (Method will be removed in 4.0.0, use self.wv.__getitem__() instead).\n",
            "  This is separate from the ipykernel package so we can avoid doing imports until\n"
          ]
        },
        {
          "output_type": "display_data",
          "data": {
            "text/plain": [
              "<Figure size 432x288 with 1 Axes>"
            ],
            "image/png": "[encoded data removed]"
          },
          "metadata": {
            "needs_background": "light"
          }
        },
        {
          "output_type": "display_data",
          "data": {
            "text/plain": [
              "<Figure size 432x1080 with 0 Axes>"
            ]
          },
          "metadata": {}
        }
      ]
    },
    {
      "cell_type": "code",
      "source": [
        "file_name=\"/content/drive/MyDrive/GoogleNews-vectors-negative300.bin.gz\""
      ],
      "metadata": {
        "id": "KERQJreMgGow"
      },
      "execution_count": 36,
      "outputs": []
    },
    {
      "cell_type": "code",
      "source": [
        "#importing pre trained model\n",
        "from gensim.models import KeyedVectors"
      ],
      "metadata": {
        "id": "MktgIQKEhjyn"
      },
      "execution_count": 37,
      "outputs": []
    },
    {
      "cell_type": "code",
      "source": [
        "google_w2vec= KeyedVectors.load_word2vec_format(file_name, binary=True)"
      ],
      "metadata": {
        "id": "aDoBCoN3iLJO"
      },
      "execution_count": 38,
      "outputs": []
    },
    {
      "cell_type": "code",
      "source": [
        "# extraction of vectors of all wors in data\n",
        "from gensim.models.doc2vec import train_document_dm_concat\n",
        "def get_embedding_w2v(doc_tokens, pre_trained):\n",
        "  embeddings=[]\n",
        "  # if pre trained=1 uses googles model or else uses our own\n",
        "  if pre_trained:\n",
        "     model=google_w2vec\n",
        "  else:\n",
        "     model=cbow_w2v_model\n",
        "  # itrate over tokens to extract their vectors\n",
        "  for tok in doc_tokens:\n",
        "      if tok in model.wv.vocab:\n",
        "        embeddings.append(model.wv.word_vec(tok))\n",
        "  # mean the vectors of individual words to get the vector of the statement\n",
        "  return np.mean(embeddings)"
      ],
      "metadata": {
        "id": "_vFNI0dBja85"
      },
      "execution_count": 39,
      "outputs": []
    },
    {
      "cell_type": "code",
      "source": [
        "# label encoding\n",
        "from sklearn.preprocessing import LabelEncoder\n",
        "from sklearn.model_selection import train_test_split\n"
      ],
      "metadata": {
        "id": "10JAN0-0ndyj"
      },
      "execution_count": 40,
      "outputs": []
    },
    {
      "cell_type": "code",
      "source": [
        "# create X from w2vec \n",
        "X_w2v_model= preprocessed_data.apply(lambda x: get_embedding_w2v(x, pre_trained=1))\n",
        "X_w2v_model= pd.DataFrame(X_w2v_model.tolist())\n",
        "print('X shape:',X_w2v_model.shape)"
      ],
      "metadata": {
        "colab": {
          "base_uri": "https://localhost:8080/"
        },
        "id": "NoxfJIOYn5HU",
        "outputId": "7484f72e-21a4-41ed-d1cc-3fa40fe5d8a2"
      },
      "execution_count": 41,
      "outputs": [
        {
          "output_type": "stream",
          "name": "stderr",
          "text": [
            "/usr/local/lib/python3.7/dist-packages/ipykernel_launcher.py:12: DeprecationWarning: Call to deprecated `wv` (Attribute will be removed in 4.0.0, use self instead).\n",
            "  if sys.path[0] == '':\n",
            "/usr/local/lib/python3.7/dist-packages/ipykernel_launcher.py:13: DeprecationWarning: Call to deprecated `wv` (Attribute will be removed in 4.0.0, use self instead).\n",
            "  del sys.path[0]\n",
            "/usr/local/lib/python3.7/dist-packages/numpy/core/fromnumeric.py:3441: RuntimeWarning: Mean of empty slice.\n",
            "  out=out, **kwargs)\n"
          ]
        },
        {
          "output_type": "stream",
          "name": "stdout",
          "text": [
            "X shape: (5572, 1)\n"
          ]
        }
      ]
    },
    {
      "cell_type": "code",
      "source": [
        "X_w2v_model.describe()"
      ],
      "metadata": {
        "colab": {
          "base_uri": "https://localhost:8080/",
          "height": 300
        },
        "id": "drPDEn5lN8ZU",
        "outputId": "95573fdc-16a6-41f7-b6ae-7885d27a5dea"
      },
      "execution_count": 46,
      "outputs": [
        {
          "output_type": "execute_result",
          "data": {
            "text/plain": [
              "                 0\n",
              "count  5563.000000\n",
              "mean     -0.002381\n",
              "std       0.002824\n",
              "min      -0.023805\n",
              "25%      -0.004024\n",
              "50%      -0.002290\n",
              "75%      -0.000689\n",
              "max       0.009314"
            ],
            "text/html": [
              "\n",
              "  <div id=\"df-80b4598f-da0a-4c51-b542-2db2ca0ce064\">\n",
              "    <div class=\"colab-df-container\">\n",
              "      <div>\n",
              "<style scoped>\n",
              "    .dataframe tbody tr th:only-of-type {\n",
              "        vertical-align: middle;\n",
              "    }\n",
              "\n",
              "    .dataframe tbody tr th {\n",
              "        vertical-align: top;\n",
              "    }\n",
              "\n",
              "    .dataframe thead th {\n",
              "        text-align: right;\n",
              "    }\n",
              "</style>\n",
              "<table border=\"1\" class=\"dataframe\">\n",
              "  <thead>\n",
              "    <tr style=\"text-align: right;\">\n",
              "      <th></th>\n",
              "      <th>0</th>\n",
              "    </tr>\n",
              "  </thead>\n",
              "  <tbody>\n",
              "    <tr>\n",
              "      <th>count</th>\n",
              "      <td>5563.000000</td>\n",
              "    </tr>\n",
              "    <tr>\n",
              "      <th>mean</th>\n",
              "      <td>-0.002381</td>\n",
              "    </tr>\n",
              "    <tr>\n",
              "      <th>std</th>\n",
              "      <td>0.002824</td>\n",
              "    </tr>\n",
              "    <tr>\n",
              "      <th>min</th>\n",
              "      <td>-0.023805</td>\n",
              "    </tr>\n",
              "    <tr>\n",
              "      <th>25%</th>\n",
              "      <td>-0.004024</td>\n",
              "    </tr>\n",
              "    <tr>\n",
              "      <th>50%</th>\n",
              "      <td>-0.002290</td>\n",
              "    </tr>\n",
              "    <tr>\n",
              "      <th>75%</th>\n",
              "      <td>-0.000689</td>\n",
              "    </tr>\n",
              "    <tr>\n",
              "      <th>max</th>\n",
              "      <td>0.009314</td>\n",
              "    </tr>\n",
              "  </tbody>\n",
              "</table>\n",
              "</div>\n",
              "      <button class=\"colab-df-convert\" onclick=\"convertToInteractive('df-80b4598f-da0a-4c51-b542-2db2ca0ce064')\"\n",
              "              title=\"Convert this dataframe to an interactive table.\"\n",
              "              style=\"display:none;\">\n",
              "        \n",
              "  <svg xmlns=\"http://www.w3.org/2000/svg\" height=\"24px\"viewBox=\"0 0 24 24\"\n",
              "       width=\"24px\">\n",
              "    <path d=\"M0 0h24v24H0V0z\" fill=\"none\"/>\n",
              "    <path d=\"M18.56 5.44l.94 2.06.94-2.06 2.06-.94-2.06-.94-.94-2.06-.94 2.06-2.06.94zm-11 1L8.5 8.5l.94-2.06 2.06-.94-2.06-.94L8.5 2.5l-.94 2.06-2.06.94zm10 10l.94 2.06.94-2.06 2.06-.94-2.06-.94-.94-2.06-.94 2.06-2.06.94z\"/><path d=\"M17.41 7.96l-1.37-1.37c-.4-.4-.92-.59-1.43-.59-.52 0-1.04.2-1.43.59L10.3 9.45l-7.72 7.72c-.78.78-.78 2.05 0 2.83L4 21.41c.39.39.9.59 1.41.59.51 0 1.02-.2 1.41-.59l7.78-7.78 2.81-2.81c.8-.78.8-2.07 0-2.86zM5.41 20L4 18.59l7.72-7.72 1.47 1.35L5.41 20z\"/>\n",
              "  </svg>\n",
              "      </button>\n",
              "      \n",
              "  <style>\n",
              "    .colab-df-container {\n",
              "      display:flex;\n",
              "      flex-wrap:wrap;\n",
              "      gap: 12px;\n",
              "    }\n",
              "\n",
              "    .colab-df-convert {\n",
              "      background-color: #E8F0FE;\n",
              "      border: none;\n",
              "      border-radius: 50%;\n",
              "      cursor: pointer;\n",
              "      display: none;\n",
              "      fill: #1967D2;\n",
              "      height: 32px;\n",
              "      padding: 0 0 0 0;\n",
              "      width: 32px;\n",
              "    }\n",
              "\n",
              "    .colab-df-convert:hover {\n",
              "      background-color: #E2EBFA;\n",
              "      box-shadow: 0px 1px 2px rgba(60, 64, 67, 0.3), 0px 1px 3px 1px rgba(60, 64, 67, 0.15);\n",
              "      fill: #174EA6;\n",
              "    }\n",
              "\n",
              "    [theme=dark] .colab-df-convert {\n",
              "      background-color: #3B4455;\n",
              "      fill: #D2E3FC;\n",
              "    }\n",
              "\n",
              "    [theme=dark] .colab-df-convert:hover {\n",
              "      background-color: #434B5C;\n",
              "      box-shadow: 0px 1px 3px 1px rgba(0, 0, 0, 0.15);\n",
              "      filter: drop-shadow(0px 1px 2px rgba(0, 0, 0, 0.3));\n",
              "      fill: #FFFFFF;\n",
              "    }\n",
              "  </style>\n",
              "\n",
              "      <script>\n",
              "        const buttonEl =\n",
              "          document.querySelector('#df-80b4598f-da0a-4c51-b542-2db2ca0ce064 button.colab-df-convert');\n",
              "        buttonEl.style.display =\n",
              "          google.colab.kernel.accessAllowed ? 'block' : 'none';\n",
              "\n",
              "        async function convertToInteractive(key) {\n",
              "          const element = document.querySelector('#df-80b4598f-da0a-4c51-b542-2db2ca0ce064');\n",
              "          const dataTable =\n",
              "            await google.colab.kernel.invokeFunction('convertToInteractive',\n",
              "                                                     [key], {});\n",
              "          if (!dataTable) return;\n",
              "\n",
              "          const docLinkHtml = 'Like what you see? Visit the ' +\n",
              "            '<a target=\"_blank\" href=https://colab.research.google.com/notebooks/data_table.ipynb>data table notebook</a>'\n",
              "            + ' to learn more about interactive tables.';\n",
              "          element.innerHTML = '';\n",
              "          dataTable['output_type'] = 'display_data';\n",
              "          await google.colab.output.renderOutput(dataTable, element);\n",
              "          const docLink = document.createElement('div');\n",
              "          docLink.innerHTML = docLinkHtml;\n",
              "          element.appendChild(docLink);\n",
              "        }\n",
              "      </script>\n",
              "    </div>\n",
              "  </div>\n",
              "  "
            ]
          },
          "metadata": {},
          "execution_count": 46
        }
      ]
    },
    {
      "cell_type": "code",
      "source": [
        "X_w2v_model.isna().sum()"
      ],
      "metadata": {
        "colab": {
          "base_uri": "https://localhost:8080/"
        },
        "id": "2L5-V6lBOG6M",
        "outputId": "6e33e0c9-8052-4583-8eb0-205f1648c5c1"
      },
      "execution_count": 48,
      "outputs": [
        {
          "output_type": "execute_result",
          "data": {
            "text/plain": [
              "0    9\n",
              "dtype: int64"
            ]
          },
          "metadata": {},
          "execution_count": 48
        }
      ]
    },
    {
      "cell_type": "code",
      "source": [
        "# label encode \n",
        "labelencode=LabelEncoder()\n",
        "# fit and transform \n",
        "df1.Spam_or_Ham=labelencode.fit_transform(df1.Spam_or_Ham)\n",
        "\n",
        "# split into train and test\n",
        "y=df1.Spam_or_Ham\n",
        "X_train_wm,X_test_wm, y_train_wm,y_test_wm= train_test_split(X_w2v_model,y,test_size=0.2,random_state=42)"
      ],
      "metadata": {
        "id": "8k_pg7mtpVfu"
      },
      "execution_count": 42,
      "outputs": []
    },
    {
      "cell_type": "code",
      "source": [
        "# build atext classification model\n",
        "from sklearn.ensemble import RandomForestClassifier\n",
        "from sklearn.metrics import accuracy_score"
      ],
      "metadata": {
        "id": "h2vOln6eH2QP"
      },
      "execution_count": 43,
      "outputs": []
    },
    {
      "cell_type": "code",
      "source": [
        "X_train_wm = X_train_wm.fillna(X_train_wm.mean())\n",
        "y_train_wm = y_train_wm.fillna(y_train_wm.mean())"
      ],
      "metadata": {
        "id": "-wNsqad4PoLz"
      },
      "execution_count": 58,
      "outputs": []
    },
    {
      "cell_type": "code",
      "source": [
        "X_test_wm = X_test_wm.fillna(X_test_wm.mean())"
      ],
      "metadata": {
        "id": "Oy6HlbDaQH-0"
      },
      "execution_count": 60,
      "outputs": []
    },
    {
      "cell_type": "code",
      "source": [
        "# initialize Random forest classifier\n",
        "model_1= RandomForestClassifier(n_estimators=50)\n",
        "# fit the model on the train data set\n",
        "model_1= model_1.fit(X_train_wm, y_train_wm)\n",
        "# make prediction on the test data set\n",
        "pred_1= model_1.predict(X_test_wm)\n",
        "\n",
        "#checking the accuracy of the model\n",
        "print(\"accuracy:\", accuracy_score(y_test_wm,pred_1)*100,\"%\") "
      ],
      "metadata": {
        "colab": {
          "base_uri": "https://localhost:8080/"
        },
        "id": "CJBP95uQJDax",
        "outputId": "b3b67428-f643-4cac-fc35-e9906c3cdd08"
      },
      "execution_count": 71,
      "outputs": [
        {
          "output_type": "stream",
          "name": "stdout",
          "text": [
            "accuracy: 84.66367713004485 %\n"
          ]
        }
      ]
    },
    {
      "cell_type": "code",
      "source": [
        "from sklearn.tree import DecisionTreeClassifier\n",
        "from sklearn.metrics import accuracy_score"
      ],
      "metadata": {
        "id": "4MVxjtEhKcOe"
      },
      "execution_count": 62,
      "outputs": []
    },
    {
      "cell_type": "code",
      "source": [
        "# initialize DecisionTree classifier\n",
        "model_2= DecisionTreeClassifier(max_depth=10)\n",
        "# fit the model on the train data set\n",
        "model_2= model_2.fit(X_train_wm, y_train_wm)\n",
        "# make prediction on the test data set\n",
        "pred_2= model_2.predict(X_test_wm)\n",
        "\n",
        "#checking the accuracy of the model\n",
        "print(\"accuracy:\", accuracy_score(y_test_wm,pred_2)*100,\"%\") "
      ],
      "metadata": {
        "colab": {
          "base_uri": "https://localhost:8080/"
        },
        "id": "Z_NrVtQjQkoy",
        "outputId": "9d970642-7316-485a-f8cb-3a24935fccf8"
      },
      "execution_count": 70,
      "outputs": [
        {
          "output_type": "stream",
          "name": "stdout",
          "text": [
            "accuracy: 86.27802690582959 %\n"
          ]
        }
      ]
    },
    {
      "cell_type": "code",
      "source": [
        "from sklearn.naive_bayes import GaussianNB\n",
        "from sklearn.metrics import accuracy_score"
      ],
      "metadata": {
        "id": "lPnS3caEQ4FQ"
      },
      "execution_count": 64,
      "outputs": []
    },
    {
      "cell_type": "code",
      "source": [
        "# initialize naive bayes classifier\n",
        "model_3=GaussianNB()\n",
        "# fit the model on the train data set\n",
        "model_3= model_3.fit(X_train_wm, y_train_wm)\n",
        "# make prediction on the test data set\n",
        "pred_3= model_3.predict(X_test_wm)\n",
        "\n",
        "#checking the accuracy of the model\n",
        "print(\"accuracy:\", accuracy_score(y_test_wm,pred_3)*100,\"%\")"
      ],
      "metadata": {
        "colab": {
          "base_uri": "https://localhost:8080/"
        },
        "id": "HuN7A-lNRJ7-",
        "outputId": "b3492450-65f0-4c98-f330-5c0e22bd2435"
      },
      "execution_count": 67,
      "outputs": [
        {
          "output_type": "stream",
          "name": "stdout",
          "text": [
            "accuracy: 86.54708520179372 %\n"
          ]
        }
      ]
    },
    {
      "cell_type": "code",
      "source": [
        "from sklearn.neighbors import KNeighborsClassifier \n",
        "from sklearn.metrics import accuracy_score"
      ],
      "metadata": {
        "id": "vq4FDsvoRbJ9"
      },
      "execution_count": 74,
      "outputs": []
    },
    {
      "cell_type": "code",
      "source": [
        "# initialize KNeighborsClassifier\n",
        "model_4=KNeighborsClassifier(n_neighbors=8)\n",
        "# fit the model on the train data set\n",
        "model_4= model_4.fit(X_train_wm, y_train_wm)\n",
        "# make prediction on the test data set\n",
        "pred_4= model_4.predict(X_test_wm)\n",
        "\n",
        "#checking the accuracy of the model\n",
        "print(\"accuracy:\", accuracy_score(y_test_wm,pred_4)*100,\"%\")"
      ],
      "metadata": {
        "colab": {
          "base_uri": "https://localhost:8080/"
        },
        "id": "h-BXC1ghSggl",
        "outputId": "cecde256-6f67-4281-933a-f2165741d743"
      },
      "execution_count": 75,
      "outputs": [
        {
          "output_type": "stream",
          "name": "stdout",
          "text": [
            "accuracy: 86.81614349775785 %\n"
          ]
        }
      ]
    },
    {
      "cell_type": "code",
      "source": [],
      "metadata": {
        "id": "-7Y4b5JKUfAI"
      },
      "execution_count": null,
      "outputs": []
    }
  ]
}